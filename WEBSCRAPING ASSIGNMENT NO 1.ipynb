{
 "cells": [
  {
   "cell_type": "markdown",
   "id": "71921a8c",
   "metadata": {},
   "source": [
    "# 1) Write a python program to display all the header tags from wikipedia.org."
   ]
  },
  {
   "cell_type": "code",
   "execution_count": 1,
   "id": "976e77db",
   "metadata": {},
   "outputs": [],
   "source": [
    "#importing the required libraries\n",
    "from bs4 import BeautifulSoup\n",
    "import requests\n",
    "import pandas as pd"
   ]
  },
  {
   "cell_type": "code",
   "execution_count": 3,
   "id": "87c9316e",
   "metadata": {},
   "outputs": [
    {
     "data": {
      "text/plain": [
       "<Response [200]>"
      ]
     },
     "execution_count": 3,
     "metadata": {},
     "output_type": "execute_result"
    }
   ],
   "source": [
    "page_url1 = requests.get(\"https://en.wikipedia.org/wiki/Main_Page\")\n",
    "page_url1"
   ]
  },
  {
   "cell_type": "code",
   "execution_count": 8,
   "id": "f6f8705f",
   "metadata": {},
   "outputs": [
    {
     "data": {
      "text/plain": [
       "'Welcome to Wikipedia'"
      ]
     },
     "execution_count": 8,
     "metadata": {},
     "output_type": "execute_result"
    }
   ],
   "source": [
    "Header1=soup.find('span', class_=\"mw-headline\")\n",
    "Header1.text"
   ]
  },
  {
   "cell_type": "code",
   "execution_count": 9,
   "id": "29eba40e",
   "metadata": {},
   "outputs": [
    {
     "data": {
      "text/plain": [
       "['Welcome to Wikipedia',\n",
       " \"From today's featured article\",\n",
       " 'Did you know\\xa0...',\n",
       " 'In the news',\n",
       " 'On this day',\n",
       " \"Today's featured picture\",\n",
       " 'Other areas of Wikipedia',\n",
       " \"Wikipedia's sister projects\",\n",
       " 'Wikipedia languages']"
      ]
     },
     "execution_count": 9,
     "metadata": {},
     "output_type": "execute_result"
    }
   ],
   "source": [
    "Header1=[]\n",
    "for i in soup.find_all('span', class_=\"mw-headline\"):\n",
    "    Header1.append(i.text.replace(\"\\n\",\" \"))\n",
    "Header1\n"
   ]
  },
  {
   "cell_type": "markdown",
   "id": "f8fa9c8b",
   "metadata": {},
   "source": [
    "# 2) Write a python program to display IMDB’s Top rated 100 movies’ data (i.e. name, rating, year of release) and make data frame."
   ]
  },
  {
   "cell_type": "code",
   "execution_count": 17,
   "id": "fc7c082e",
   "metadata": {},
   "outputs": [
    {
     "data": {
      "text/plain": [
       "<Response [200]>"
      ]
     },
     "execution_count": 17,
     "metadata": {},
     "output_type": "execute_result"
    }
   ],
   "source": [
    "page3 = requests.get(\"https://www.imdb.com/list/ls091520106/\")\n",
    "page3"
   ]
  },
  {
   "cell_type": "code",
   "execution_count": 18,
   "id": "9f5256ff",
   "metadata": {},
   "outputs": [],
   "source": [
    "# page content\n",
    "soup=BeautifulSoup(page3.content)"
   ]
  },
  {
   "cell_type": "code",
   "execution_count": 22,
   "id": "e079940c",
   "metadata": {},
   "outputs": [],
   "source": [
    "soup = BeautifulSoup(page3.text,\"html.parser\")"
   ]
  },
  {
   "cell_type": "code",
   "execution_count": 23,
   "id": "f8576a34",
   "metadata": {},
   "outputs": [
    {
     "data": {
      "text/plain": [
       "['The Shawshank Redemption',\n",
       " 'The Godfather',\n",
       " 'The Godfather Part II',\n",
       " 'The Dark Knight',\n",
       " '12 Angry Men',\n",
       " \"Schindler's List\",\n",
       " 'The Lord of the Rings: The Return of the King',\n",
       " 'Pulp Fiction',\n",
       " 'Il buono, il brutto, il cattivo',\n",
       " 'Fight Club',\n",
       " 'Joker',\n",
       " 'The Lord of the Rings: The Fellowship of the Ring',\n",
       " 'Forrest Gump',\n",
       " 'Inception',\n",
       " 'The Empire Strikes Back',\n",
       " 'The Lord of the Rings: The Two Towers',\n",
       " 'The Matrix',\n",
       " \"One Flew Over the Cuckoo's Nest\",\n",
       " 'GoodFellas',\n",
       " 'Shichinin no samurai',\n",
       " 'Se7en',\n",
       " 'Cidade de Deus',\n",
       " 'La vita è bella',\n",
       " 'The Silence of the Lambs',\n",
       " 'Star Wars',\n",
       " \"It's a Wonderful Life\",\n",
       " 'Saving Private Ryan',\n",
       " 'Sen to Chihiro no kamikakushi',\n",
       " 'The Green Mile',\n",
       " 'Léon',\n",
       " 'Seppuku',\n",
       " 'Interstellar',\n",
       " 'The Usual Suspects',\n",
       " 'The Lion King',\n",
       " 'American History X',\n",
       " 'Back to the Future',\n",
       " 'The Pianist',\n",
       " 'Modern Times',\n",
       " 'Terminator 2: Judgment Day',\n",
       " 'The Intouchables',\n",
       " 'Psycho',\n",
       " 'Gladiator',\n",
       " 'City Lights',\n",
       " 'The Departed',\n",
       " 'Whiplash',\n",
       " 'Once Upon a Time in the West',\n",
       " 'The Prestige',\n",
       " 'Avengers: Endgame',\n",
       " 'Casablanca',\n",
       " 'Hotaru no haka',\n",
       " 'Rear Window',\n",
       " 'Nuovo Cinema Paradiso',\n",
       " 'Alien',\n",
       " 'Raiders of the Lost Ark',\n",
       " 'Memento',\n",
       " 'Apocalypse Now',\n",
       " 'The Great Dictator',\n",
       " 'The Lives of Others',\n",
       " 'Avengers: Infinity War',\n",
       " 'Django Unchained',\n",
       " 'Spider-Man: Into the Spider-Verse',\n",
       " 'The Shining',\n",
       " 'Paths of Glory',\n",
       " 'WALL·E',\n",
       " 'Sunset Blvd.',\n",
       " 'Dr. Strangelove or: How I Learned to Stop Worrying and Love the Bomb',\n",
       " 'Mononoke-hime',\n",
       " 'Oldeuboi',\n",
       " 'Witness for the Prosecution',\n",
       " 'The Dark Knight Rises',\n",
       " 'Once Upon a Time in America',\n",
       " 'Gisaengchung',\n",
       " 'Aliens',\n",
       " 'American Beauty',\n",
       " 'Coco',\n",
       " 'Kimi no na wa.',\n",
       " 'Braveheart',\n",
       " 'Das Boot',\n",
       " '3 Idiots',\n",
       " 'Taare Zameen Par',\n",
       " 'Star Wars: Episode VI - Return of the Jedi',\n",
       " 'Toy Story',\n",
       " 'Reservoir Dogs',\n",
       " 'Amadeus',\n",
       " 'Dangal',\n",
       " 'Good Will Hunting',\n",
       " 'Inglourious Basterds',\n",
       " 'M - Eine Stadt sucht einen Mörder',\n",
       " 'Requiem for a Dream',\n",
       " '2001: A Space Odyssey',\n",
       " 'Vertigo',\n",
       " 'Eternal Sunshine of the Spotless Mind',\n",
       " 'Citizen Kane',\n",
       " 'Full Metal Jacket',\n",
       " 'Jagten',\n",
       " 'North by Northwest',\n",
       " 'A Clockwork Orange',\n",
       " 'Snatch',\n",
       " \"Le fabuleux destin d'Amélie Poulain\",\n",
       " 'The Kid']"
      ]
     },
     "execution_count": 23,
     "metadata": {},
     "output_type": "execute_result"
    }
   ],
   "source": [
    "# Scrap movie names\n",
    "name = soup.find_all('h3',class_=\"lister-item-header\")\n",
    "\n",
    "# parse movie names\n",
    "movies_name = []  #empty list\n",
    "for i in name:\n",
    "    for j in i.find_all(\"a\"):\n",
    "        movies_name.append(j.text.replace('\\n',' ').strip())\n",
    "movies_name "
   ]
  },
  {
   "cell_type": "code",
   "execution_count": 27,
   "id": "4f1bf2ec",
   "metadata": {},
   "outputs": [
    {
     "data": {
      "text/plain": [
       "['9.3',\n",
       " '9.2',\n",
       " '9',\n",
       " '9',\n",
       " '9',\n",
       " '9',\n",
       " '9',\n",
       " '8.9',\n",
       " '8.8',\n",
       " '8.8',\n",
       " '8.4',\n",
       " '8.8',\n",
       " '8.8',\n",
       " '8.8',\n",
       " '8.7',\n",
       " '8.8',\n",
       " '8.7',\n",
       " '8.7',\n",
       " '8.7',\n",
       " '8.6',\n",
       " '8.6',\n",
       " '8.6',\n",
       " '8.6',\n",
       " '8.6',\n",
       " '8.6',\n",
       " '8.6',\n",
       " '8.6',\n",
       " '8.6',\n",
       " '8.6',\n",
       " '8.5',\n",
       " '8.6',\n",
       " '8.6',\n",
       " '8.5',\n",
       " '8.5',\n",
       " '8.5',\n",
       " '8.5',\n",
       " '8.5',\n",
       " '8.5',\n",
       " '8.6',\n",
       " '8.5',\n",
       " '8.5',\n",
       " '8.5',\n",
       " '8.5',\n",
       " '8.5',\n",
       " '8.5',\n",
       " '8.5',\n",
       " '8.5',\n",
       " '8.4',\n",
       " '8.5',\n",
       " '8.5',\n",
       " '8.5',\n",
       " '8.5',\n",
       " '8.5',\n",
       " '8.4',\n",
       " '8.4',\n",
       " '8.5',\n",
       " '8.4',\n",
       " '8.4',\n",
       " '8.4',\n",
       " '8.4',\n",
       " '8.4',\n",
       " '8.4',\n",
       " '8.4',\n",
       " '8.4',\n",
       " '8.4',\n",
       " '8.4',\n",
       " '8.4',\n",
       " '8.4',\n",
       " '8.4',\n",
       " '8.4',\n",
       " '8.3',\n",
       " '8.5',\n",
       " '8.4',\n",
       " '8.4',\n",
       " '8.4',\n",
       " '8.4',\n",
       " '8.4',\n",
       " '8.4',\n",
       " '8.4',\n",
       " '8.3',\n",
       " '8.3',\n",
       " '8.3',\n",
       " '8.3',\n",
       " '8.4',\n",
       " '8.3',\n",
       " '8.3',\n",
       " '8.3',\n",
       " '8.3',\n",
       " '8.3',\n",
       " '8.3',\n",
       " '8.3',\n",
       " '8.3',\n",
       " '8.3',\n",
       " '8.3',\n",
       " '8.3',\n",
       " '8.3',\n",
       " '8.3',\n",
       " '8.2',\n",
       " '8.3',\n",
       " '8.3']"
      ]
     },
     "execution_count": 27,
     "metadata": {},
     "output_type": "execute_result"
    }
   ],
   "source": [
    "# Scrap IMDB ratings for movies\n",
    "ratings = soup.find_all(\"div\",class_=\"ipl-rating-star small\")\n",
    "\n",
    "# parse ratings\n",
    "movie_ratings = []  # empty list\n",
    "for i in ratings:\n",
    "    movie_ratings.append(i.text.replace('\\n',' ').strip())\n",
    "movie_ratings "
   ]
  },
  {
   "cell_type": "code",
   "execution_count": 28,
   "id": "9b54154b",
   "metadata": {},
   "outputs": [
    {
     "data": {
      "text/plain": [
       "['1994',\n",
       " '1972',\n",
       " '1974',\n",
       " '2008',\n",
       " '1957',\n",
       " '1993',\n",
       " '2003',\n",
       " '1994',\n",
       " '1966',\n",
       " '1999',\n",
       " 'I 2019',\n",
       " '2001',\n",
       " '1994',\n",
       " '2010',\n",
       " '1980',\n",
       " '2002',\n",
       " '1999',\n",
       " '1975',\n",
       " '1990',\n",
       " '1954',\n",
       " '1995',\n",
       " '2002',\n",
       " '1997',\n",
       " '1991',\n",
       " '1977',\n",
       " '1946',\n",
       " '1998',\n",
       " '2001',\n",
       " '1999',\n",
       " '1994',\n",
       " '1962',\n",
       " '2014',\n",
       " '1995',\n",
       " '1994',\n",
       " '1998',\n",
       " '1985',\n",
       " '2002',\n",
       " '1936',\n",
       " '1991',\n",
       " '2011',\n",
       " '1960',\n",
       " '2000',\n",
       " '1931',\n",
       " '2006',\n",
       " '2014',\n",
       " '1968',\n",
       " '2006',\n",
       " '2019',\n",
       " '1942',\n",
       " '1988',\n",
       " '1954',\n",
       " '1988',\n",
       " '1979',\n",
       " '1981',\n",
       " '2000',\n",
       " '1979',\n",
       " '1940',\n",
       " '2006',\n",
       " '2018',\n",
       " '2012',\n",
       " '2018',\n",
       " '1980',\n",
       " '1957',\n",
       " '2008',\n",
       " '1950',\n",
       " '1964',\n",
       " '1997',\n",
       " '2003',\n",
       " '1957',\n",
       " '2012',\n",
       " '1984',\n",
       " '2019',\n",
       " '1986',\n",
       " '1999',\n",
       " 'I 2017',\n",
       " '2016',\n",
       " '1995',\n",
       " '1981',\n",
       " '2009',\n",
       " '2007',\n",
       " '1983',\n",
       " '1995',\n",
       " '1992',\n",
       " '1984',\n",
       " '2016',\n",
       " '1997',\n",
       " '2009',\n",
       " '1931',\n",
       " '2000',\n",
       " '1968',\n",
       " '1958',\n",
       " '2004',\n",
       " '1941',\n",
       " '1987',\n",
       " '2012',\n",
       " '1959',\n",
       " '1971',\n",
       " '2000',\n",
       " '2001',\n",
       " '1921']"
      ]
     },
     "execution_count": 28,
     "metadata": {},
     "output_type": "execute_result"
    }
   ],
   "source": [
    "# year of release\n",
    "year = soup.find_all(\"span\",class_=\"lister-item-year text-muted unbold\")\n",
    "\n",
    "Release_year= []  #empty lsit\n",
    "for i in year:\n",
    "        Release_year.append(i.text.replace('(','').replace(')',''))\n",
    "Release_year"
   ]
  },
  {
   "cell_type": "code",
   "execution_count": 29,
   "id": "6c0e5de9",
   "metadata": {},
   "outputs": [
    {
     "name": "stdout",
     "output_type": "stream",
     "text": [
      "100 100 100\n"
     ]
    }
   ],
   "source": [
    "print(len(movies_name),len(movie_ratings),len(Release_year))"
   ]
  },
  {
   "cell_type": "code",
   "execution_count": 30,
   "id": "4ced1881",
   "metadata": {},
   "outputs": [
    {
     "data": {
      "text/html": [
       "<div>\n",
       "<style scoped>\n",
       "    .dataframe tbody tr th:only-of-type {\n",
       "        vertical-align: middle;\n",
       "    }\n",
       "\n",
       "    .dataframe tbody tr th {\n",
       "        vertical-align: top;\n",
       "    }\n",
       "\n",
       "    .dataframe thead th {\n",
       "        text-align: right;\n",
       "    }\n",
       "</style>\n",
       "<table border=\"1\" class=\"dataframe\">\n",
       "  <thead>\n",
       "    <tr style=\"text-align: right;\">\n",
       "      <th></th>\n",
       "      <th>Movie_name</th>\n",
       "      <th>Movie_rating</th>\n",
       "      <th>Movie_year</th>\n",
       "    </tr>\n",
       "  </thead>\n",
       "  <tbody>\n",
       "    <tr>\n",
       "      <th>0</th>\n",
       "      <td>The Shawshank Redemption</td>\n",
       "      <td>9.3</td>\n",
       "      <td>1994</td>\n",
       "    </tr>\n",
       "    <tr>\n",
       "      <th>1</th>\n",
       "      <td>The Godfather</td>\n",
       "      <td>9.2</td>\n",
       "      <td>1972</td>\n",
       "    </tr>\n",
       "    <tr>\n",
       "      <th>2</th>\n",
       "      <td>The Godfather Part II</td>\n",
       "      <td>9</td>\n",
       "      <td>1974</td>\n",
       "    </tr>\n",
       "    <tr>\n",
       "      <th>3</th>\n",
       "      <td>The Dark Knight</td>\n",
       "      <td>9</td>\n",
       "      <td>2008</td>\n",
       "    </tr>\n",
       "    <tr>\n",
       "      <th>4</th>\n",
       "      <td>12 Angry Men</td>\n",
       "      <td>9</td>\n",
       "      <td>1957</td>\n",
       "    </tr>\n",
       "    <tr>\n",
       "      <th>...</th>\n",
       "      <td>...</td>\n",
       "      <td>...</td>\n",
       "      <td>...</td>\n",
       "    </tr>\n",
       "    <tr>\n",
       "      <th>95</th>\n",
       "      <td>North by Northwest</td>\n",
       "      <td>8.3</td>\n",
       "      <td>1959</td>\n",
       "    </tr>\n",
       "    <tr>\n",
       "      <th>96</th>\n",
       "      <td>A Clockwork Orange</td>\n",
       "      <td>8.3</td>\n",
       "      <td>1971</td>\n",
       "    </tr>\n",
       "    <tr>\n",
       "      <th>97</th>\n",
       "      <td>Snatch</td>\n",
       "      <td>8.2</td>\n",
       "      <td>2000</td>\n",
       "    </tr>\n",
       "    <tr>\n",
       "      <th>98</th>\n",
       "      <td>Le fabuleux destin d'Amélie Poulain</td>\n",
       "      <td>8.3</td>\n",
       "      <td>2001</td>\n",
       "    </tr>\n",
       "    <tr>\n",
       "      <th>99</th>\n",
       "      <td>The Kid</td>\n",
       "      <td>8.3</td>\n",
       "      <td>1921</td>\n",
       "    </tr>\n",
       "  </tbody>\n",
       "</table>\n",
       "<p>100 rows × 3 columns</p>\n",
       "</div>"
      ],
      "text/plain": [
       "                             Movie_name Movie_rating Movie_year\n",
       "0              The Shawshank Redemption          9.3       1994\n",
       "1                         The Godfather          9.2       1972\n",
       "2                 The Godfather Part II            9       1974\n",
       "3                       The Dark Knight            9       2008\n",
       "4                          12 Angry Men            9       1957\n",
       "..                                  ...          ...        ...\n",
       "95                   North by Northwest          8.3       1959\n",
       "96                   A Clockwork Orange          8.3       1971\n",
       "97                               Snatch          8.2       2000\n",
       "98  Le fabuleux destin d'Amélie Poulain          8.3       2001\n",
       "99                              The Kid          8.3       1921\n",
       "\n",
       "[100 rows x 3 columns]"
      ]
     },
     "execution_count": 30,
     "metadata": {},
     "output_type": "execute_result"
    }
   ],
   "source": [
    "df=pd.DataFrame({'Movie_name':movies_name,'Movie_rating':movie_ratings,'Movie_year':Release_year})\n",
    "df"
   ]
  },
  {
   "cell_type": "markdown",
   "id": "bd543bdb",
   "metadata": {},
   "source": [
    "#  3) Write a python program to display IMDB’s Top rated 100 Indian movies’ data (i.e. name, rating, year of release) and make data frame."
   ]
  },
  {
   "cell_type": "code",
   "execution_count": 32,
   "id": "c934aa65",
   "metadata": {},
   "outputs": [
    {
     "data": {
      "text/plain": [
       "<Response [200]>"
      ]
     },
     "execution_count": 32,
     "metadata": {},
     "output_type": "execute_result"
    }
   ],
   "source": [
    "page3 = requests.get(\"https://www.imdb.com/india/top-rated-indian-movies/\")\n",
    "page3"
   ]
  },
  {
   "cell_type": "code",
   "execution_count": 34,
   "id": "88c3a215",
   "metadata": {},
   "outputs": [],
   "source": [
    "# Checking the page content\n",
    "soup = BeautifulSoup(page3.content)"
   ]
  },
  {
   "cell_type": "code",
   "execution_count": 35,
   "id": "c614377c",
   "metadata": {},
   "outputs": [],
   "source": [
    "soup = BeautifulSoup(page3.text,'html.parser')"
   ]
  },
  {
   "cell_type": "code",
   "execution_count": 36,
   "id": "df20b950",
   "metadata": {},
   "outputs": [
    {
     "data": {
      "text/plain": [
       "['Ramayana: The Legend of Prince Rama',\n",
       " 'Rocketry: The Nambi Effect',\n",
       " 'Gol Maal',\n",
       " 'Nayakan',\n",
       " 'Anbe Sivam',\n",
       " '777 Charlie',\n",
       " 'Jai Bhim',\n",
       " 'Pariyerum Perumal',\n",
       " 'Manichitrathazhu',\n",
       " '3 Idiots',\n",
       " 'Apur Sansar',\n",
       " '#Home',\n",
       " 'Black Friday',\n",
       " 'Soorarai Pottru',\n",
       " 'Kumbalangi Nights',\n",
       " 'C/o Kancharapalem',\n",
       " 'Taare Zameen Par',\n",
       " 'Kireedam',\n",
       " 'Dangal',\n",
       " 'Kaithi',\n",
       " 'Jersey',\n",
       " '96',\n",
       " 'Maya Bazaar',\n",
       " 'Natsamrat',\n",
       " 'Asuran',\n",
       " 'Drishyam 2',\n",
       " 'Thevar Magan',\n",
       " 'Sita Ramam',\n",
       " 'Visaaranai',\n",
       " 'Sarpatta Parambarai',\n",
       " 'Thalapathi',\n",
       " 'Pather Panchali',\n",
       " 'Nadodikkattu',\n",
       " 'Jaane Bhi Do Yaaro',\n",
       " 'Drishyam',\n",
       " 'Thani Oruvan',\n",
       " 'Sardar Udham',\n",
       " 'Aparajito',\n",
       " 'Vada Chennai',\n",
       " 'Khosla Ka Ghosla!',\n",
       " 'Ratsasan',\n",
       " 'Anniyan',\n",
       " 'Chupke Chupke',\n",
       " 'Peranbu',\n",
       " 'Gangs of Wasseypur',\n",
       " 'Mahanati',\n",
       " 'Drishyam',\n",
       " 'Bangalore Days',\n",
       " 'Satya',\n",
       " 'Premam',\n",
       " 'Agent Sai Srinivasa Athreya',\n",
       " 'Devasuram',\n",
       " 'Super Deluxe',\n",
       " 'Bhaag Milkha Bhaag',\n",
       " 'Tumbbad',\n",
       " 'Andhadhun',\n",
       " 'Vikram Vedha',\n",
       " 'Guide',\n",
       " 'Chithram',\n",
       " 'Zindagi Na Milegi Dobara',\n",
       " 'Kannathil Muthamittal',\n",
       " 'Sairat',\n",
       " 'Shahid',\n",
       " 'Vikram',\n",
       " 'Chhichhore',\n",
       " 'Iruvar',\n",
       " 'Aruvi',\n",
       " 'Paan Singh Tomar',\n",
       " 'Swades: We, the People',\n",
       " 'Drishyam 2',\n",
       " 'Spadikam',\n",
       " 'Munna Bhai M.B.B.S.',\n",
       " 'Chak De! India',\n",
       " 'Pyaasa',\n",
       " 'Uri: The Surgical Strike',\n",
       " 'Mudhalvan',\n",
       " 'Black',\n",
       " 'Jo Jeeta Wohi Sikandar',\n",
       " 'Hera Pheri',\n",
       " 'Papanasam',\n",
       " 'Lagaan: Once Upon a Time in India',\n",
       " 'Pudhu Pettai',\n",
       " 'Dhuruvangal Pathinaaru',\n",
       " 'PK',\n",
       " 'Queen',\n",
       " 'Article 15',\n",
       " 'Talvar',\n",
       " 'Mandela',\n",
       " 'OMG: Oh My God!',\n",
       " 'Soodhu Kavvum',\n",
       " 'Sarfarosh',\n",
       " 'Sholay',\n",
       " 'Udaan',\n",
       " 'Barfi!',\n",
       " 'Jigarthanda',\n",
       " 'Kaakkaa Muttai',\n",
       " 'The Legend of Bhagat Singh',\n",
       " 'Ustad Hotel',\n",
       " 'Theeran Adhigaaram Ondru',\n",
       " 'Baahubali 2: The Conclusion']"
      ]
     },
     "execution_count": 36,
     "metadata": {},
     "output_type": "execute_result"
    }
   ],
   "source": [
    "# Scrap top 100 Indian movie names\n",
    "name = soup.find_all('td',class_=\"titleColumn\")\n",
    "\n",
    "# parse movie names\n",
    "Indian_movies_name = []  #empty list\n",
    "for i in name:\n",
    "    for j in i.find_all(\"a\"):\n",
    "        Indian_movies_name.append(j.text.replace('\\n',' '))\n",
    "Indian_movies_name = Indian_movies_name[:100]\n",
    "Indian_movies_name"
   ]
  },
  {
   "cell_type": "code",
   "execution_count": 37,
   "id": "4a501250",
   "metadata": {},
   "outputs": [
    {
     "data": {
      "text/plain": [
       "['8.5',\n",
       " '8.4',\n",
       " '8.4',\n",
       " '8.4',\n",
       " '8.4',\n",
       " '8.4',\n",
       " '8.4',\n",
       " '8.4',\n",
       " '8.4',\n",
       " '8.4',\n",
       " '8.4',\n",
       " '8.3',\n",
       " '8.3',\n",
       " '8.3',\n",
       " '8.3',\n",
       " '8.3',\n",
       " '8.3',\n",
       " '8.3',\n",
       " '8.3',\n",
       " '8.3',\n",
       " '8.3',\n",
       " '8.3',\n",
       " '8.3',\n",
       " '8.2',\n",
       " '8.2',\n",
       " '8.2',\n",
       " '8.2',\n",
       " '8.2',\n",
       " '8.2',\n",
       " '8.2',\n",
       " '8.2',\n",
       " '8.2',\n",
       " '8.2',\n",
       " '8.2',\n",
       " '8.2',\n",
       " '8.2',\n",
       " '8.2',\n",
       " '8.2',\n",
       " '8.2',\n",
       " '8.2',\n",
       " '8.1',\n",
       " '8.1',\n",
       " '8.1',\n",
       " '8.1',\n",
       " '8.1',\n",
       " '8.1',\n",
       " '8.1',\n",
       " '8.1',\n",
       " '8.1',\n",
       " '8.1',\n",
       " '8.1',\n",
       " '8.1',\n",
       " '8.1',\n",
       " '8.1',\n",
       " '8.1',\n",
       " '8.1',\n",
       " '8.1',\n",
       " '8.1',\n",
       " '8.1',\n",
       " '8.1',\n",
       " '8.1',\n",
       " '8.1',\n",
       " '8.1',\n",
       " '8.1',\n",
       " '8.1',\n",
       " '8.1',\n",
       " '8.1',\n",
       " '8.1',\n",
       " '8.1',\n",
       " '8.1',\n",
       " '8.1',\n",
       " '8.1',\n",
       " '8.1',\n",
       " '8.1',\n",
       " '8.1',\n",
       " '8.1',\n",
       " '8.1',\n",
       " '8.1',\n",
       " '8.1',\n",
       " '8.1',\n",
       " '8.1',\n",
       " '8.1',\n",
       " '8.1',\n",
       " '8.0',\n",
       " '8.0',\n",
       " '8.0',\n",
       " '8.0',\n",
       " '8.0',\n",
       " '8.0',\n",
       " '8.0',\n",
       " '8.0',\n",
       " '8.0',\n",
       " '8.0',\n",
       " '8.0',\n",
       " '8.0',\n",
       " '8.0',\n",
       " '8.0',\n",
       " '8.0',\n",
       " '8.0',\n",
       " '8.0']"
      ]
     },
     "execution_count": 37,
     "metadata": {},
     "output_type": "execute_result"
    }
   ],
   "source": [
    "# Scrap IMDB ratings for Indian movies\n",
    "ratings = soup.find_all('td', class_=\"ratingColumn imdbRating\")\n",
    "\n",
    "# parse ratings\n",
    "movie_ratings = []\n",
    "for i in ratings:\n",
    "    movie_ratings.append(i.text.replace('\\n',' ').strip())\n",
    "movie_ratings = movie_ratings[:100]\n",
    "movie_ratings"
   ]
  },
  {
   "cell_type": "code",
   "execution_count": 38,
   "id": "c017765d",
   "metadata": {},
   "outputs": [
    {
     "data": {
      "text/plain": [
       "['1993',\n",
       " '2022',\n",
       " '1979',\n",
       " '1987',\n",
       " '2003',\n",
       " '2022',\n",
       " '2021',\n",
       " '2018',\n",
       " '1993',\n",
       " '2009',\n",
       " '1959',\n",
       " '2021',\n",
       " '2004',\n",
       " '2020',\n",
       " '2019',\n",
       " '2018',\n",
       " '2007',\n",
       " '1989',\n",
       " '2016',\n",
       " '2019',\n",
       " '2019',\n",
       " '2018',\n",
       " '1957',\n",
       " '2016',\n",
       " '2019',\n",
       " '2021',\n",
       " '1992',\n",
       " '2022',\n",
       " '2015',\n",
       " '2021',\n",
       " '1991',\n",
       " '1955',\n",
       " '1987',\n",
       " '1983',\n",
       " '2013',\n",
       " '2015',\n",
       " '2021',\n",
       " '1956',\n",
       " '2018',\n",
       " '2006',\n",
       " '2018',\n",
       " '2005',\n",
       " '1975',\n",
       " '2018',\n",
       " '2012',\n",
       " '2018',\n",
       " '2015',\n",
       " '2014',\n",
       " '1998',\n",
       " '2015',\n",
       " '2019',\n",
       " '1993',\n",
       " '2019',\n",
       " '2013',\n",
       " '2018',\n",
       " '2018',\n",
       " '2017',\n",
       " '1965',\n",
       " '1988',\n",
       " '2011',\n",
       " '2002',\n",
       " '2016',\n",
       " '2012',\n",
       " '2022',\n",
       " '2019',\n",
       " '1997',\n",
       " '2016',\n",
       " '2012',\n",
       " '2004',\n",
       " '2022',\n",
       " '1995',\n",
       " '2003',\n",
       " '2007',\n",
       " '1957',\n",
       " '2019',\n",
       " '1999',\n",
       " '2005',\n",
       " '1992',\n",
       " '2000',\n",
       " '2015',\n",
       " '2001',\n",
       " '2006',\n",
       " '2016',\n",
       " '2014',\n",
       " '2013',\n",
       " '2019',\n",
       " '2015',\n",
       " '2021',\n",
       " '2012',\n",
       " '2013',\n",
       " '1999',\n",
       " '1975',\n",
       " '2010',\n",
       " '2012',\n",
       " '2014',\n",
       " '2014',\n",
       " '2002',\n",
       " '2012',\n",
       " '2017',\n",
       " '2017']"
      ]
     },
     "execution_count": 38,
     "metadata": {},
     "output_type": "execute_result"
    }
   ],
   "source": [
    "# Scrap the year of release\n",
    "year_of_release = soup.find_all(\"span\",class_=\"secondaryInfo\")\n",
    "\n",
    "#parse release year\n",
    "Release_year= []  #empty lsit\n",
    "for i in name:\n",
    "    for j in i.find_all(\"span\"):\n",
    "        Release_year.append(j.text.replace('(','').replace(')',''))\n",
    "Release_year = Release_year[:100]\n",
    "Release_year"
   ]
  },
  {
   "cell_type": "code",
   "execution_count": 39,
   "id": "c3b9144c",
   "metadata": {},
   "outputs": [
    {
     "name": "stdout",
     "output_type": "stream",
     "text": [
      "100 100 100\n"
     ]
    }
   ],
   "source": [
    "print(len(Indian_movies_name),len(movie_ratings),len(Release_year))"
   ]
  },
  {
   "cell_type": "code",
   "execution_count": 40,
   "id": "ed707ecc",
   "metadata": {},
   "outputs": [
    {
     "data": {
      "text/html": [
       "<div>\n",
       "<style scoped>\n",
       "    .dataframe tbody tr th:only-of-type {\n",
       "        vertical-align: middle;\n",
       "    }\n",
       "\n",
       "    .dataframe tbody tr th {\n",
       "        vertical-align: top;\n",
       "    }\n",
       "\n",
       "    .dataframe thead th {\n",
       "        text-align: right;\n",
       "    }\n",
       "</style>\n",
       "<table border=\"1\" class=\"dataframe\">\n",
       "  <thead>\n",
       "    <tr style=\"text-align: right;\">\n",
       "      <th></th>\n",
       "      <th>Movie_name</th>\n",
       "      <th>Movie_rating</th>\n",
       "      <th>Movie_year</th>\n",
       "    </tr>\n",
       "  </thead>\n",
       "  <tbody>\n",
       "    <tr>\n",
       "      <th>0</th>\n",
       "      <td>Ramayana: The Legend of Prince Rama</td>\n",
       "      <td>8.5</td>\n",
       "      <td>1993</td>\n",
       "    </tr>\n",
       "    <tr>\n",
       "      <th>1</th>\n",
       "      <td>Rocketry: The Nambi Effect</td>\n",
       "      <td>8.4</td>\n",
       "      <td>2022</td>\n",
       "    </tr>\n",
       "    <tr>\n",
       "      <th>2</th>\n",
       "      <td>Gol Maal</td>\n",
       "      <td>8.4</td>\n",
       "      <td>1979</td>\n",
       "    </tr>\n",
       "    <tr>\n",
       "      <th>3</th>\n",
       "      <td>Nayakan</td>\n",
       "      <td>8.4</td>\n",
       "      <td>1987</td>\n",
       "    </tr>\n",
       "    <tr>\n",
       "      <th>4</th>\n",
       "      <td>Anbe Sivam</td>\n",
       "      <td>8.4</td>\n",
       "      <td>2003</td>\n",
       "    </tr>\n",
       "    <tr>\n",
       "      <th>...</th>\n",
       "      <td>...</td>\n",
       "      <td>...</td>\n",
       "      <td>...</td>\n",
       "    </tr>\n",
       "    <tr>\n",
       "      <th>95</th>\n",
       "      <td>Kaakkaa Muttai</td>\n",
       "      <td>8.0</td>\n",
       "      <td>2014</td>\n",
       "    </tr>\n",
       "    <tr>\n",
       "      <th>96</th>\n",
       "      <td>The Legend of Bhagat Singh</td>\n",
       "      <td>8.0</td>\n",
       "      <td>2002</td>\n",
       "    </tr>\n",
       "    <tr>\n",
       "      <th>97</th>\n",
       "      <td>Ustad Hotel</td>\n",
       "      <td>8.0</td>\n",
       "      <td>2012</td>\n",
       "    </tr>\n",
       "    <tr>\n",
       "      <th>98</th>\n",
       "      <td>Theeran Adhigaaram Ondru</td>\n",
       "      <td>8.0</td>\n",
       "      <td>2017</td>\n",
       "    </tr>\n",
       "    <tr>\n",
       "      <th>99</th>\n",
       "      <td>Baahubali 2: The Conclusion</td>\n",
       "      <td>8.0</td>\n",
       "      <td>2017</td>\n",
       "    </tr>\n",
       "  </tbody>\n",
       "</table>\n",
       "<p>100 rows × 3 columns</p>\n",
       "</div>"
      ],
      "text/plain": [
       "                             Movie_name Movie_rating Movie_year\n",
       "0   Ramayana: The Legend of Prince Rama          8.5       1993\n",
       "1            Rocketry: The Nambi Effect          8.4       2022\n",
       "2                              Gol Maal          8.4       1979\n",
       "3                               Nayakan          8.4       1987\n",
       "4                            Anbe Sivam          8.4       2003\n",
       "..                                  ...          ...        ...\n",
       "95                       Kaakkaa Muttai          8.0       2014\n",
       "96           The Legend of Bhagat Singh          8.0       2002\n",
       "97                          Ustad Hotel          8.0       2012\n",
       "98             Theeran Adhigaaram Ondru          8.0       2017\n",
       "99          Baahubali 2: The Conclusion          8.0       2017\n",
       "\n",
       "[100 rows x 3 columns]"
      ]
     },
     "execution_count": 40,
     "metadata": {},
     "output_type": "execute_result"
    }
   ],
   "source": [
    "df=pd.DataFrame({'Movie_name':Indian_movies_name,'Movie_rating':movie_ratings,'Movie_year':Release_year})\n",
    "df"
   ]
  },
  {
   "cell_type": "raw",
   "id": "8306f5b6",
   "metadata": {},
   "source": [
    "# #4) Write a python program to scrape product name, price and discounts from  https://meesho.com/bagsladies/pl/p7vbp ."
   ]
  },
  {
   "cell_type": "code",
   "execution_count": 109,
   "id": "b8281eab",
   "metadata": {},
   "outputs": [
    {
     "data": {
      "text/plain": [
       "<Response [403]>"
      ]
     },
     "execution_count": 109,
     "metadata": {},
     "output_type": "execute_result"
    }
   ],
   "source": [
    "page4 = requests.get(\"https://www.meesho.com/ravishing-attractive-women-backpacks/p/p4w1g\")\n",
    "page4"
   ]
  },
  {
   "cell_type": "code",
   "execution_count": 110,
   "id": "01e46fc8",
   "metadata": {},
   "outputs": [],
   "source": [
    "# see content in page\n",
    "soup = BeautifulSoup(page4.content)\n",
    "soup =  BeautifulSoup(page4.text,'html.parser')"
   ]
  },
  {
   "cell_type": "code",
   "execution_count": null,
   "id": "f56818d6",
   "metadata": {},
   "outputs": [],
   "source": [
    "SOVED IN NEW NOTEBOOK"
   ]
  },
  {
   "cell_type": "code",
   "execution_count": null,
   "id": "ac93d057",
   "metadata": {},
   "outputs": [],
   "source": [
    "  #5) Write a python program to scrape cricket rankings from icc-cricket.com. You have to scrape:\n",
    "        a) Top 10 ODI teams in men’s cricket along with the records for matches, points and rating.\n",
    "        b) Top 10 ODI Batsmen along with the records of their team and rating. \n",
    "        c) Top 10 ODI bowlers along with the records of their team and rating. "
   ]
  },
  {
   "cell_type": "markdown",
   "id": "f3451b0d",
   "metadata": {},
   "source": [
    "# a) Top 10 ODI teams in men’s cricket along with the records for matches, points and rating."
   ]
  },
  {
   "cell_type": "code",
   "execution_count": 48,
   "id": "4eccbb7f",
   "metadata": {},
   "outputs": [
    {
     "data": {
      "text/plain": [
       "<Response [200]>"
      ]
     },
     "execution_count": 48,
     "metadata": {},
     "output_type": "execute_result"
    }
   ],
   "source": [
    "# request to the webpage of the server to get the source code of the page\n",
    "page5 = requests.get(\"https://www.icc-cricket.com/rankings/mens/team-rankings/odi\")\n",
    "page5"
   ]
  },
  {
   "cell_type": "code",
   "execution_count": 54,
   "id": "db79439d",
   "metadata": {},
   "outputs": [],
   "source": [
    "# Checking the page content\n",
    "soup = BeautifulSoup(page5.content)"
   ]
  },
  {
   "cell_type": "code",
   "execution_count": 55,
   "id": "b509bce6",
   "metadata": {},
   "outputs": [],
   "source": [
    "soup = BeautifulSoup(page5.text,'html.parser')"
   ]
  },
  {
   "cell_type": "code",
   "execution_count": 60,
   "id": "f1ab7b01",
   "metadata": {},
   "outputs": [
    {
     "data": {
      "text/plain": [
       "['India',\n",
       " 'Australia',\n",
       " 'New Zealand',\n",
       " 'England',\n",
       " 'Pakistan',\n",
       " 'South Africa',\n",
       " 'Bangladesh',\n",
       " 'Sri Lanka',\n",
       " 'Afghanistan',\n",
       " 'West Indies']"
      ]
     },
     "execution_count": 60,
     "metadata": {},
     "output_type": "execute_result"
    }
   ],
   "source": [
    "name=soup.find_all(\"span\",class_=\"u-hide-phablet\")\n",
    "Team_name=[]\n",
    "for i in name:\n",
    "    Team_name.append(i.text.replace(\"\\n\", \"\"))\n",
    "    Team_name=Team_name[:10]\n",
    "Team_name"
   ]
  },
  {
   "cell_type": "code",
   "execution_count": 66,
   "id": "b69346fc",
   "metadata": {},
   "outputs": [
    {
     "data": {
      "text/plain": [
       "['44']"
      ]
     },
     "execution_count": 66,
     "metadata": {},
     "output_type": "execute_result"
    }
   ],
   "source": [
    "# Scrape names\n",
    "match1=soup.find_all('td', class_=\"rankings-block__banner--matches\")\n",
    "No_matches=[]\n",
    "for i in match1:\n",
    "    No_matches.append(i.text)\n",
    "No_matches"
   ]
  },
  {
   "cell_type": "code",
   "execution_count": 68,
   "id": "3d2b9465",
   "metadata": {},
   "outputs": [
    {
     "data": {
      "text/plain": [
       "['44']"
      ]
     },
     "execution_count": 68,
     "metadata": {},
     "output_type": "execute_result"
    }
   ],
   "source": [
    "#Scrape matches\n",
    "match1 = soup.find_all(\"td\",class_=\"rankings-block__banner--matches\")   #first place team number of matches\n",
    "\n",
    "no_of_matches = [] #empty list\n",
    "for i in match1:\n",
    "    no_of_matches.append(i.text)\n",
    "no_of_matches "
   ]
  },
  {
   "cell_type": "code",
   "execution_count": 69,
   "id": "cda6327c",
   "metadata": {},
   "outputs": [
    {
     "data": {
      "text/plain": [
       "['44', '32', '29', '31', '25', '25', '33', '34', '20', '41']"
      ]
     },
     "execution_count": 69,
     "metadata": {},
     "output_type": "execute_result"
    }
   ],
   "source": [
    "new_list = []  #emptty list\n",
    "matches = soup.find_all(\"td\",class_=\"table-body__cell u-center-text\")   #other teams number of matches\n",
    "\n",
    "for i in matches:\n",
    "    new_list.append(i.text)\n",
    "new_list  \n",
    "\n",
    "for i in range(0,len( new_list),2):\n",
    "    no_of_matches.append(new_list[i])\n",
    "no_of_matches = no_of_matches[:10]\n",
    "no_of_matches"
   ]
  },
  {
   "cell_type": "code",
   "execution_count": 70,
   "id": "7c772125",
   "metadata": {},
   "outputs": [
    {
     "data": {
      "text/plain": [
       "['5,010',\n",
       " '3,572',\n",
       " '3,229',\n",
       " '3,450',\n",
       " '2,649',\n",
       " '2,555',\n",
       " '3,129',\n",
       " '2,976',\n",
       " '1,419',\n",
       " '2,902']"
      ]
     },
     "execution_count": 70,
     "metadata": {},
     "output_type": "execute_result"
    }
   ],
   "source": [
    "# Scrape points\n",
    "pts_1 = soup.find_all(\"td\",class_=\"rankings-block__banner--points\")   #first place team points\n",
    "\n",
    "points = [] #empty list\n",
    "for i in pts_1:\n",
    "    points.append(i.text)\n",
    "\n",
    "new_list = []  #emptty list\n",
    "pts = soup.find_all(\"td\",class_=\"table-body__cell u-center-text\")   #other teams points\n",
    "\n",
    "for i in pts:\n",
    "    new_list.append(i.text)\n",
    "new_list  \n",
    "\n",
    "for i in range(0,len( new_list),2):\n",
    "    points.append(new_list[i+1])\n",
    "points = points[:10]\n",
    "points"
   ]
  },
  {
   "cell_type": "code",
   "execution_count": 75,
   "id": "29b593fc",
   "metadata": {},
   "outputs": [
    {
     "data": {
      "text/plain": [
       "['114', '112', '111', '111', '106', '102', '95', '88', '71', '71']"
      ]
     },
     "execution_count": 75,
     "metadata": {},
     "output_type": "execute_result"
    }
   ],
   "source": [
    "#Scrape ratings\n",
    "rtgs_1 = soup.find_all(\"td\",class_=\"rankings-block__banner--rating u-text-right\")   #first place team ratings\n",
    "\n",
    "ratings = [] #empty list\n",
    "for i in rtgs_1:\n",
    "    ratings.append(i.text.replace(\"\\n\",\"\").strip())\n",
    "\n",
    "\n",
    "rtgs = soup.find_all(\"td\",class_=\"table-body__cell u-text-right rating\")   #other teams ratings\n",
    "    \n",
    "for i in rtgs:\n",
    "    ratings.append(i.text)\n",
    "ratings= ratings[:10]\n",
    "ratings   "
   ]
  },
  {
   "cell_type": "code",
   "execution_count": 74,
   "id": "751ee310",
   "metadata": {},
   "outputs": [
    {
     "name": "stdout",
     "output_type": "stream",
     "text": [
      "10 10 10 10\n"
     ]
    }
   ],
   "source": [
    "print(len(Team_name),len(no_of_matches),len(points),len(ratings))"
   ]
  },
  {
   "cell_type": "code",
   "execution_count": 76,
   "id": "b910acae",
   "metadata": {},
   "outputs": [
    {
     "data": {
      "text/html": [
       "<div>\n",
       "<style scoped>\n",
       "    .dataframe tbody tr th:only-of-type {\n",
       "        vertical-align: middle;\n",
       "    }\n",
       "\n",
       "    .dataframe tbody tr th {\n",
       "        vertical-align: top;\n",
       "    }\n",
       "\n",
       "    .dataframe thead th {\n",
       "        text-align: right;\n",
       "    }\n",
       "</style>\n",
       "<table border=\"1\" class=\"dataframe\">\n",
       "  <thead>\n",
       "    <tr style=\"text-align: right;\">\n",
       "      <th></th>\n",
       "      <th>Team_name</th>\n",
       "      <th>Matches</th>\n",
       "      <th>points</th>\n",
       "      <th>Rating</th>\n",
       "    </tr>\n",
       "  </thead>\n",
       "  <tbody>\n",
       "    <tr>\n",
       "      <th>0</th>\n",
       "      <td>India</td>\n",
       "      <td>44</td>\n",
       "      <td>5,010</td>\n",
       "      <td>114</td>\n",
       "    </tr>\n",
       "    <tr>\n",
       "      <th>1</th>\n",
       "      <td>Australia</td>\n",
       "      <td>32</td>\n",
       "      <td>3,572</td>\n",
       "      <td>112</td>\n",
       "    </tr>\n",
       "    <tr>\n",
       "      <th>2</th>\n",
       "      <td>New Zealand</td>\n",
       "      <td>29</td>\n",
       "      <td>3,229</td>\n",
       "      <td>111</td>\n",
       "    </tr>\n",
       "    <tr>\n",
       "      <th>3</th>\n",
       "      <td>England</td>\n",
       "      <td>31</td>\n",
       "      <td>3,450</td>\n",
       "      <td>111</td>\n",
       "    </tr>\n",
       "    <tr>\n",
       "      <th>4</th>\n",
       "      <td>Pakistan</td>\n",
       "      <td>25</td>\n",
       "      <td>2,649</td>\n",
       "      <td>106</td>\n",
       "    </tr>\n",
       "    <tr>\n",
       "      <th>5</th>\n",
       "      <td>South Africa</td>\n",
       "      <td>25</td>\n",
       "      <td>2,555</td>\n",
       "      <td>102</td>\n",
       "    </tr>\n",
       "    <tr>\n",
       "      <th>6</th>\n",
       "      <td>Bangladesh</td>\n",
       "      <td>33</td>\n",
       "      <td>3,129</td>\n",
       "      <td>95</td>\n",
       "    </tr>\n",
       "    <tr>\n",
       "      <th>7</th>\n",
       "      <td>Sri Lanka</td>\n",
       "      <td>34</td>\n",
       "      <td>2,976</td>\n",
       "      <td>88</td>\n",
       "    </tr>\n",
       "    <tr>\n",
       "      <th>8</th>\n",
       "      <td>Afghanistan</td>\n",
       "      <td>20</td>\n",
       "      <td>1,419</td>\n",
       "      <td>71</td>\n",
       "    </tr>\n",
       "    <tr>\n",
       "      <th>9</th>\n",
       "      <td>West Indies</td>\n",
       "      <td>41</td>\n",
       "      <td>2,902</td>\n",
       "      <td>71</td>\n",
       "    </tr>\n",
       "  </tbody>\n",
       "</table>\n",
       "</div>"
      ],
      "text/plain": [
       "      Team_name Matches points Rating\n",
       "0         India      44  5,010    114\n",
       "1     Australia      32  3,572    112\n",
       "2   New Zealand      29  3,229    111\n",
       "3       England      31  3,450    111\n",
       "4      Pakistan      25  2,649    106\n",
       "5  South Africa      25  2,555    102\n",
       "6    Bangladesh      33  3,129     95\n",
       "7     Sri Lanka      34  2,976     88\n",
       "8   Afghanistan      20  1,419     71\n",
       "9   West Indies      41  2,902     71"
      ]
     },
     "execution_count": 76,
     "metadata": {},
     "output_type": "execute_result"
    }
   ],
   "source": [
    "df=pd.DataFrame({'Team_name':Team_name,'Matches':no_of_matches,'points':points, 'Rating':ratings})\n",
    "df"
   ]
  },
  {
   "cell_type": "markdown",
   "id": "417caefb",
   "metadata": {},
   "source": [
    "#  b) Top 10 ODI Batsmen along with the records of their team and rating"
   ]
  },
  {
   "cell_type": "code",
   "execution_count": 112,
   "id": "0076da65",
   "metadata": {},
   "outputs": [
    {
     "data": {
      "text/plain": [
       "<Response [200]>"
      ]
     },
     "execution_count": 112,
     "metadata": {},
     "output_type": "execute_result"
    }
   ],
   "source": [
    "page6 = requests.get(\"https://www.icc-cricket.com/rankings/mens/player-rankings/odi/batting\")\n",
    "page6"
   ]
  },
  {
   "cell_type": "code",
   "execution_count": 113,
   "id": "abc58911",
   "metadata": {},
   "outputs": [],
   "source": [
    "# see content in page6\n",
    "soup = BeautifulSoup(page6.content)\n",
    "soup =  BeautifulSoup(page6.text,'html.parser')"
   ]
  },
  {
   "cell_type": "code",
   "execution_count": 114,
   "id": "6e1433f1",
   "metadata": {},
   "outputs": [
    {
     "data": {
      "text/plain": [
       "['Babar Azam',\n",
       " 'Rassie van der Dussen',\n",
       " 'Quinton de Kock',\n",
       " 'David Warner',\n",
       " 'Imam-ul-Haq',\n",
       " 'Shubman Gill',\n",
       " 'Virat Kohli',\n",
       " 'Steve Smith',\n",
       " 'Rohit Sharma',\n",
       " 'Jonny Bairstow']"
      ]
     },
     "execution_count": 114,
     "metadata": {},
     "output_type": "execute_result"
    }
   ],
   "source": [
    "#Scrape players\n",
    "player_1 = soup.find_all(\"div\",class_=\"rankings-block__banner--name-large\")  #first place player name\n",
    "\n",
    "players_name = [] #empty list\n",
    "for i in player_1:\n",
    "    players_name.append(i.text)\n",
    "\n",
    "other_players = soup.find_all(\"td\",class_=\"table-body__cell rankings-table__name name\")  # other players\n",
    "\n",
    "for i in other_players:\n",
    "    for j in i.find_all(\"a\"):\n",
    "        players_name.append(j.text)\n",
    "players_name = players_name[:10]\n",
    "players_name"
   ]
  },
  {
   "cell_type": "code",
   "execution_count": 115,
   "id": "e0db8703",
   "metadata": {},
   "outputs": [
    {
     "data": {
      "text/plain": [
       "['PAK', 'SA', 'SA', 'AUS', 'PAK', 'IND', 'IND', 'AUS', 'IND', 'ENG']"
      ]
     },
     "execution_count": 115,
     "metadata": {},
     "output_type": "execute_result"
    }
   ],
   "source": [
    "# Scrape team name\n",
    "team_1 = soup.find_all(\"div\",class_=\"rankings-block__banner--nationality\")   #first place team name\n",
    "\n",
    "team_name = []  #empty list\n",
    "for i in team_1:\n",
    "    team_name.append(i.text.replace(\"\\n\",\"\"))\n",
    "\n",
    "other_teams = soup.find_all(\"span\",class_=\"table-body__logo-text\")  # other teams name\n",
    "\n",
    "for i in other_teams:\n",
    "    team_name.append(i.text)\n",
    "team_name = team_name[:10]\n",
    "team_name"
   ]
  },
  {
   "cell_type": "code",
   "execution_count": 116,
   "id": "a29bc7c5",
   "metadata": {},
   "outputs": [
    {
     "data": {
      "text/plain": [
       "['887', '766', '759', '747', '740', '734', '727', '719', '719', '710']"
      ]
     },
     "execution_count": 116,
     "metadata": {},
     "output_type": "execute_result"
    }
   ],
   "source": [
    "# Scrape ratings\n",
    "rating_1 = soup.find_all(\"div\",class_=\"rankings-block__banner--rating\")    #first place player ratings\n",
    "\n",
    "rating = []  #empty list\n",
    "for i in rating_1:\n",
    "    rating.append(i.text)\n",
    "\n",
    "others_ratings = soup.find_all(\"td\",class_=\"table-body__cell rating\")      #other players ratings\n",
    "\n",
    "for i in others_ratings:\n",
    "    rating.append(i.text)\n",
    "rating = rating[:10]\n",
    "rating "
   ]
  },
  {
   "cell_type": "code",
   "execution_count": 117,
   "id": "0404055d",
   "metadata": {},
   "outputs": [
    {
     "name": "stdout",
     "output_type": "stream",
     "text": [
      "10 10 10\n"
     ]
    }
   ],
   "source": [
    "print(len(players_name),len(team_name),len(rating))"
   ]
  },
  {
   "cell_type": "code",
   "execution_count": 119,
   "id": "43a046a6",
   "metadata": {},
   "outputs": [
    {
     "data": {
      "text/html": [
       "<div>\n",
       "<style scoped>\n",
       "    .dataframe tbody tr th:only-of-type {\n",
       "        vertical-align: middle;\n",
       "    }\n",
       "\n",
       "    .dataframe tbody tr th {\n",
       "        vertical-align: top;\n",
       "    }\n",
       "\n",
       "    .dataframe thead th {\n",
       "        text-align: right;\n",
       "    }\n",
       "</style>\n",
       "<table border=\"1\" class=\"dataframe\">\n",
       "  <thead>\n",
       "    <tr style=\"text-align: right;\">\n",
       "      <th></th>\n",
       "      <th>Players_name</th>\n",
       "      <th>team_name</th>\n",
       "      <th>Points</th>\n",
       "      <th>Rating</th>\n",
       "    </tr>\n",
       "  </thead>\n",
       "  <tbody>\n",
       "    <tr>\n",
       "      <th>0</th>\n",
       "      <td>Babar Azam</td>\n",
       "      <td>PAK</td>\n",
       "      <td>5,010</td>\n",
       "      <td>887</td>\n",
       "    </tr>\n",
       "    <tr>\n",
       "      <th>1</th>\n",
       "      <td>Rassie van der Dussen</td>\n",
       "      <td>SA</td>\n",
       "      <td>3,572</td>\n",
       "      <td>766</td>\n",
       "    </tr>\n",
       "    <tr>\n",
       "      <th>2</th>\n",
       "      <td>Quinton de Kock</td>\n",
       "      <td>SA</td>\n",
       "      <td>3,229</td>\n",
       "      <td>759</td>\n",
       "    </tr>\n",
       "    <tr>\n",
       "      <th>3</th>\n",
       "      <td>David Warner</td>\n",
       "      <td>AUS</td>\n",
       "      <td>3,450</td>\n",
       "      <td>747</td>\n",
       "    </tr>\n",
       "    <tr>\n",
       "      <th>4</th>\n",
       "      <td>Imam-ul-Haq</td>\n",
       "      <td>PAK</td>\n",
       "      <td>2,649</td>\n",
       "      <td>740</td>\n",
       "    </tr>\n",
       "    <tr>\n",
       "      <th>5</th>\n",
       "      <td>Shubman Gill</td>\n",
       "      <td>IND</td>\n",
       "      <td>2,555</td>\n",
       "      <td>734</td>\n",
       "    </tr>\n",
       "    <tr>\n",
       "      <th>6</th>\n",
       "      <td>Virat Kohli</td>\n",
       "      <td>IND</td>\n",
       "      <td>3,129</td>\n",
       "      <td>727</td>\n",
       "    </tr>\n",
       "    <tr>\n",
       "      <th>7</th>\n",
       "      <td>Steve Smith</td>\n",
       "      <td>AUS</td>\n",
       "      <td>2,976</td>\n",
       "      <td>719</td>\n",
       "    </tr>\n",
       "    <tr>\n",
       "      <th>8</th>\n",
       "      <td>Rohit Sharma</td>\n",
       "      <td>IND</td>\n",
       "      <td>1,419</td>\n",
       "      <td>719</td>\n",
       "    </tr>\n",
       "    <tr>\n",
       "      <th>9</th>\n",
       "      <td>Jonny Bairstow</td>\n",
       "      <td>ENG</td>\n",
       "      <td>2,902</td>\n",
       "      <td>710</td>\n",
       "    </tr>\n",
       "  </tbody>\n",
       "</table>\n",
       "</div>"
      ],
      "text/plain": [
       "            Players_name team_name Points Rating\n",
       "0             Babar Azam       PAK  5,010    887\n",
       "1  Rassie van der Dussen        SA  3,572    766\n",
       "2        Quinton de Kock        SA  3,229    759\n",
       "3           David Warner       AUS  3,450    747\n",
       "4            Imam-ul-Haq       PAK  2,649    740\n",
       "5           Shubman Gill       IND  2,555    734\n",
       "6            Virat Kohli       IND  3,129    727\n",
       "7            Steve Smith       AUS  2,976    719\n",
       "8           Rohit Sharma       IND  1,419    719\n",
       "9         Jonny Bairstow       ENG  2,902    710"
      ]
     },
     "execution_count": 119,
     "metadata": {},
     "output_type": "execute_result"
    }
   ],
   "source": [
    "df=pd.DataFrame({'Players_name':players_name,'team_name':team_name,'Points':points, 'Rating':rating})\n",
    "df"
   ]
  },
  {
   "cell_type": "markdown",
   "id": "f749dadc",
   "metadata": {},
   "source": [
    "# Top 10 ODI bowlers along with the records of their team and rating."
   ]
  },
  {
   "cell_type": "code",
   "execution_count": null,
   "id": "2fdb58f7",
   "metadata": {},
   "outputs": [],
   "source": [
    "page7 = requests.get(\"https://www.icc-cricket.com/rankings/mens/player-rankings/odi/bowling\")\n",
    "page7"
   ]
  },
  {
   "cell_type": "code",
   "execution_count": null,
   "id": "c0ca725d",
   "metadata": {},
   "outputs": [],
   "source": [
    "# see content in page\n",
    "soup = BeautifulSoup(page7.content)\n",
    "soup =  BeautifulSoup(page7.text,'html.parser')"
   ]
  },
  {
   "cell_type": "code",
   "execution_count": null,
   "id": "11ecc75c",
   "metadata": {},
   "outputs": [],
   "source": [
    "bowlers_name = []   #empty list\n",
    "team_name = []   #empty list\n",
    "ratings = []   #empty list"
   ]
  },
  {
   "cell_type": "code",
   "execution_count": 120,
   "id": "dc9b8f49",
   "metadata": {},
   "outputs": [
    {
     "data": {
      "text/plain": [
       "['Babar Azam',\n",
       " 'Rassie van der Dussen',\n",
       " 'Quinton de Kock',\n",
       " 'David Warner',\n",
       " 'Imam-ul-Haq',\n",
       " 'Shubman Gill',\n",
       " 'Virat Kohli',\n",
       " 'Steve Smith',\n",
       " 'Rohit Sharma',\n",
       " 'Jonny Bairstow']"
      ]
     },
     "execution_count": 120,
     "metadata": {},
     "output_type": "execute_result"
    }
   ],
   "source": [
    "#Scrape bowlers name\n",
    "bowler_1 = soup.find_all(\"div\",class_=\"rankings-block__banner--name-large\")   #first place bowler name\n",
    "\n",
    "bowlers_name = []   #empty list\n",
    "for i in bowler_1:\n",
    "    bowlers_name.append(i.text)\n",
    "\n",
    "other_bowlers = soup.find_all(\"td\",class_=\"table-body__cell rankings-table__name name\")   #other bowlers name\n",
    "\n",
    "for i in other_bowlers:\n",
    "    for j in i.find_all(\"a\"):\n",
    "        bowlers_name.append(j.text)\n",
    "bowlers_name = bowlers_name[:10]\n",
    "bowlers_name "
   ]
  },
  {
   "cell_type": "code",
   "execution_count": 121,
   "id": "e19c2a5c",
   "metadata": {},
   "outputs": [
    {
     "data": {
      "text/plain": [
       "['PAK', 'SA', 'SA', 'AUS', 'PAK', 'IND', 'IND', 'AUS', 'IND', 'ENG']"
      ]
     },
     "execution_count": 121,
     "metadata": {},
     "output_type": "execute_result"
    }
   ],
   "source": [
    "#Scrape team name\n",
    "team_1 = soup.find_all(\"div\",class_=\"rankings-block__banner--nationality\")  # first place bowler team name\n",
    "\n",
    "team_name = []   #empty list\n",
    "for i in team_1:\n",
    "    team_name.append(i.text.replace(\"\\n\",\"\"))\n",
    "\n",
    "other_teams = soup.find_all(\"span\",class_=\"table-body__logo-text\")   # other bowlers team name\n",
    "\n",
    "for i in other_teams:\n",
    "    team_name.append(i.text)\n",
    "team_name = team_name[:10]\n",
    "team_name"
   ]
  },
  {
   "cell_type": "code",
   "execution_count": 122,
   "id": "a25781f0",
   "metadata": {},
   "outputs": [
    {
     "data": {
      "text/plain": [
       "['887', '766', '759', '747', '740', '734', '727', '719', '719', '710']"
      ]
     },
     "execution_count": 122,
     "metadata": {},
     "output_type": "execute_result"
    }
   ],
   "source": [
    "# Scrape ratings\n",
    "rating_1 = soup.find_all(\"div\",class_=\"rankings-block__banner--rating\")   # first place bowler ratings\n",
    "\n",
    "ratings = []   #empty list\n",
    "for i in rating_1:\n",
    "    ratings.append(i.text)\n",
    "ratings\n",
    "\n",
    "others_ratings = soup.find_all(\"td\",class_=\"table-body__cell rating\")   # other bowlers ratings\n",
    "\n",
    "for i in others_ratings:\n",
    "    ratings.append(i.text)\n",
    "ratings = ratings[:10]\n",
    "ratings"
   ]
  },
  {
   "cell_type": "code",
   "execution_count": 123,
   "id": "f62ebf62",
   "metadata": {},
   "outputs": [
    {
     "name": "stdout",
     "output_type": "stream",
     "text": [
      "10 10 10\n"
     ]
    }
   ],
   "source": [
    "print(len(bowlers_name),len(team_name),len(ratings))"
   ]
  },
  {
   "cell_type": "code",
   "execution_count": 124,
   "id": "c1eaee57",
   "metadata": {},
   "outputs": [
    {
     "data": {
      "text/html": [
       "<div>\n",
       "<style scoped>\n",
       "    .dataframe tbody tr th:only-of-type {\n",
       "        vertical-align: middle;\n",
       "    }\n",
       "\n",
       "    .dataframe tbody tr th {\n",
       "        vertical-align: top;\n",
       "    }\n",
       "\n",
       "    .dataframe thead th {\n",
       "        text-align: right;\n",
       "    }\n",
       "</style>\n",
       "<table border=\"1\" class=\"dataframe\">\n",
       "  <thead>\n",
       "    <tr style=\"text-align: right;\">\n",
       "      <th></th>\n",
       "      <th>Bowlers_name</th>\n",
       "      <th>Team_name</th>\n",
       "      <th>Rating</th>\n",
       "    </tr>\n",
       "  </thead>\n",
       "  <tbody>\n",
       "    <tr>\n",
       "      <th>0</th>\n",
       "      <td>Babar Azam</td>\n",
       "      <td>PAK</td>\n",
       "      <td>887</td>\n",
       "    </tr>\n",
       "    <tr>\n",
       "      <th>1</th>\n",
       "      <td>Rassie van der Dussen</td>\n",
       "      <td>SA</td>\n",
       "      <td>766</td>\n",
       "    </tr>\n",
       "    <tr>\n",
       "      <th>2</th>\n",
       "      <td>Quinton de Kock</td>\n",
       "      <td>SA</td>\n",
       "      <td>759</td>\n",
       "    </tr>\n",
       "    <tr>\n",
       "      <th>3</th>\n",
       "      <td>David Warner</td>\n",
       "      <td>AUS</td>\n",
       "      <td>747</td>\n",
       "    </tr>\n",
       "    <tr>\n",
       "      <th>4</th>\n",
       "      <td>Imam-ul-Haq</td>\n",
       "      <td>PAK</td>\n",
       "      <td>740</td>\n",
       "    </tr>\n",
       "    <tr>\n",
       "      <th>5</th>\n",
       "      <td>Shubman Gill</td>\n",
       "      <td>IND</td>\n",
       "      <td>734</td>\n",
       "    </tr>\n",
       "    <tr>\n",
       "      <th>6</th>\n",
       "      <td>Virat Kohli</td>\n",
       "      <td>IND</td>\n",
       "      <td>727</td>\n",
       "    </tr>\n",
       "    <tr>\n",
       "      <th>7</th>\n",
       "      <td>Steve Smith</td>\n",
       "      <td>AUS</td>\n",
       "      <td>719</td>\n",
       "    </tr>\n",
       "    <tr>\n",
       "      <th>8</th>\n",
       "      <td>Rohit Sharma</td>\n",
       "      <td>IND</td>\n",
       "      <td>719</td>\n",
       "    </tr>\n",
       "    <tr>\n",
       "      <th>9</th>\n",
       "      <td>Jonny Bairstow</td>\n",
       "      <td>ENG</td>\n",
       "      <td>710</td>\n",
       "    </tr>\n",
       "  </tbody>\n",
       "</table>\n",
       "</div>"
      ],
      "text/plain": [
       "            Bowlers_name Team_name Rating\n",
       "0             Babar Azam       PAK    887\n",
       "1  Rassie van der Dussen        SA    766\n",
       "2        Quinton de Kock        SA    759\n",
       "3           David Warner       AUS    747\n",
       "4            Imam-ul-Haq       PAK    740\n",
       "5           Shubman Gill       IND    734\n",
       "6            Virat Kohli       IND    727\n",
       "7            Steve Smith       AUS    719\n",
       "8           Rohit Sharma       IND    719\n",
       "9         Jonny Bairstow       ENG    710"
      ]
     },
     "execution_count": 124,
     "metadata": {},
     "output_type": "execute_result"
    }
   ],
   "source": [
    "df=pd.DataFrame({'Bowlers_name':bowlers_name,'Team_name':team_name, 'Rating':rating})\n",
    "df"
   ]
  },
  {
   "cell_type": "code",
   "execution_count": null,
   "id": "b536aef1",
   "metadata": {},
   "outputs": [],
   "source": [
    "7) Write a python program to scrape details of all the posts from coreyms.com. \n",
    "Scrape the heading, date, content and the code for the video from the link for the youtube video from the post. "
   ]
  },
  {
   "cell_type": "code",
   "execution_count": null,
   "id": "c4ba17fd",
   "metadata": {},
   "outputs": [],
   "source": [
    "SOLVED IN NEW NOTEBOOK"
   ]
  },
  {
   "cell_type": "code",
   "execution_count": null,
   "id": "df1b78b1",
   "metadata": {},
   "outputs": [],
   "source": [
    "#6) Write a python program to scrape cricket rankings from icc-cricket.com. You have to scrape:\n",
    "    a) Top 10 ODI teams in women’s cricket along with the records for matches, points and rating.\n",
    "    b) Top 10 women’s ODI Batting players along with the records of their team and rating.\n",
    "    c) Top 10 women’s ODI all-rounder along with the records of their team and rating. \n",
    " "
   ]
  },
  {
   "cell_type": "raw",
   "id": "a4f506f3",
   "metadata": {},
   "source": [
    "  a) Top 10 ODI teams in women’s cricket along with the records for matches, points and rating."
   ]
  },
  {
   "cell_type": "code",
   "execution_count": 125,
   "id": "9f1fe872",
   "metadata": {},
   "outputs": [
    {
     "data": {
      "text/plain": [
       "<Response [200]>"
      ]
     },
     "execution_count": 125,
     "metadata": {},
     "output_type": "execute_result"
    }
   ],
   "source": [
    "page8 = requests.get(\"https://www.icc-cricket.com/rankings/womens/team-rankings/odi\")\n",
    "page8"
   ]
  },
  {
   "cell_type": "code",
   "execution_count": 126,
   "id": "b3d5a4e5",
   "metadata": {},
   "outputs": [],
   "source": [
    "# see content in page\n",
    "soup = BeautifulSoup(page8.content)\n",
    "soup =  BeautifulSoup(page8.text,'html.parser')"
   ]
  },
  {
   "cell_type": "code",
   "execution_count": 127,
   "id": "fa92c597",
   "metadata": {},
   "outputs": [
    {
     "data": {
      "text/plain": [
       "['Australia',\n",
       " 'England',\n",
       " 'South Africa',\n",
       " 'India',\n",
       " 'New Zealand',\n",
       " 'West Indies',\n",
       " 'Bangladesh',\n",
       " 'Thailand',\n",
       " 'Pakistan',\n",
       " 'Sri Lanka']"
      ]
     },
     "execution_count": 127,
     "metadata": {},
     "output_type": "execute_result"
    }
   ],
   "source": [
    "# Scrape team names\n",
    "women_team = soup.find_all(\"span\",class_=\"u-hide-phablet\")\n",
    "\n",
    "women_team_name = []\n",
    "for i in women_team:\n",
    "    women_team_name.append(i.text.replace('\\n',''))\n",
    "women_team_name = women_team_name[:10]\n",
    "women_team_name"
   ]
  },
  {
   "cell_type": "code",
   "execution_count": 128,
   "id": "6ad32817",
   "metadata": {},
   "outputs": [],
   "source": [
    "women_matches = [] #empty list\n",
    "women_points = [] #empty list\n",
    "women_ratings = [] #empty list\n",
    "women_new_list = [] #empty list"
   ]
  },
  {
   "cell_type": "code",
   "execution_count": 129,
   "id": "f58e2b99",
   "metadata": {},
   "outputs": [
    {
     "data": {
      "text/plain": [
       "['21', '28', '26', '27', '25', '27', '13', '8', '27', '8']"
      ]
     },
     "execution_count": 129,
     "metadata": {},
     "output_type": "execute_result"
    }
   ],
   "source": [
    "#Scrape matches\n",
    "match_1 = soup.find_all(\"td\",class_=\"rankings-block__banner--matches\")   # first place team number of matches\n",
    "\n",
    "women_matches = [] #empty list\n",
    "for i in match_1:\n",
    "    women_matches.append(i.text)\n",
    "\n",
    "other_matches = soup.find_all(\"td\",class_=\"table-body__cell u-center-text\")  # other teams matches\n",
    "\n",
    "women_new_list = []  #empty list\n",
    "for i in other_matches:\n",
    "    women_new_list.append(i.text)\n",
    "\n",
    "for i in range(0,len(women_new_list),2):\n",
    "    women_matches.append(women_new_list[i])\n",
    "women_matches = women_matches[:10]\n",
    "women_matches"
   ]
  },
  {
   "cell_type": "code",
   "execution_count": 130,
   "id": "aff1bd95",
   "metadata": {},
   "outputs": [
    {
     "data": {
      "text/plain": [
       "['3,603',\n",
       " '3,342',\n",
       " '3,098',\n",
       " '2,820',\n",
       " '2,553',\n",
       " '2,535',\n",
       " '983',\n",
       " '572',\n",
       " '1,678',\n",
       " '353']"
      ]
     },
     "execution_count": 130,
     "metadata": {},
     "output_type": "execute_result"
    }
   ],
   "source": [
    "#Scrape women points\n",
    "point_1 = soup.find_all(\"td\",class_=\"rankings-block__banner--points\")  # first place team points\n",
    "\n",
    "women_points = [] #empty list\n",
    "for i in point_1:\n",
    "    women_points.append(i.text)\n",
    "\n",
    "women_new_list = []  #emptty list\n",
    "others_points = soup.find_all(\"td\",class_=\"table-body__cell u-center-text\")  # other team points\n",
    "\n",
    "for i in others_points:\n",
    "    women_new_list.append(i.text)  \n",
    "\n",
    "for i in range(0,len(women_new_list),2):\n",
    "    women_points.append(women_new_list[i+1])\n",
    "women_points = women_points[:10]\n",
    "women_points"
   ]
  },
  {
   "cell_type": "code",
   "execution_count": 131,
   "id": "1cafcd52",
   "metadata": {},
   "outputs": [
    {
     "data": {
      "text/plain": [
       "['172', '119', '119', '104', '102', '94', '76', '72', '62', '44']"
      ]
     },
     "execution_count": 131,
     "metadata": {},
     "output_type": "execute_result"
    }
   ],
   "source": [
    "#Scrape ratings\n",
    "ratings_1 = soup.find_all(\"td\",class_=\"rankings-block__banner--rating u-text-right\")   #first place team ratings\n",
    "\n",
    "women_ratings = [] #empty list\n",
    "for i in ratings_1:\n",
    "    women_ratings.append(i.text.replace(\"\\n\",\"\").strip())\n",
    "\n",
    "others_ratings = soup.find_all(\"td\",class_=\"table-body__cell u-text-right rating\")   #other teams ratings\n",
    "    \n",
    "for i in others_ratings:\n",
    "    women_ratings.append(i.text)\n",
    "women_ratings= women_ratings[:10]\n",
    "women_ratings   \n"
   ]
  },
  {
   "cell_type": "code",
   "execution_count": 132,
   "id": "10041959",
   "metadata": {},
   "outputs": [
    {
     "name": "stdout",
     "output_type": "stream",
     "text": [
      "10 10 10\n"
     ]
    }
   ],
   "source": [
    "print(len(women_matches),len(women_points),len(women_ratings))"
   ]
  },
  {
   "cell_type": "code",
   "execution_count": 133,
   "id": "aefaf0c6",
   "metadata": {},
   "outputs": [
    {
     "data": {
      "text/html": [
       "<div>\n",
       "<style scoped>\n",
       "    .dataframe tbody tr th:only-of-type {\n",
       "        vertical-align: middle;\n",
       "    }\n",
       "\n",
       "    .dataframe tbody tr th {\n",
       "        vertical-align: top;\n",
       "    }\n",
       "\n",
       "    .dataframe thead th {\n",
       "        text-align: right;\n",
       "    }\n",
       "</style>\n",
       "<table border=\"1\" class=\"dataframe\">\n",
       "  <thead>\n",
       "    <tr style=\"text-align: right;\">\n",
       "      <th></th>\n",
       "      <th>women_matches</th>\n",
       "      <th>women_points</th>\n",
       "      <th>women_ratings</th>\n",
       "    </tr>\n",
       "  </thead>\n",
       "  <tbody>\n",
       "    <tr>\n",
       "      <th>0</th>\n",
       "      <td>21</td>\n",
       "      <td>3,603</td>\n",
       "      <td>172</td>\n",
       "    </tr>\n",
       "    <tr>\n",
       "      <th>1</th>\n",
       "      <td>28</td>\n",
       "      <td>3,342</td>\n",
       "      <td>119</td>\n",
       "    </tr>\n",
       "    <tr>\n",
       "      <th>2</th>\n",
       "      <td>26</td>\n",
       "      <td>3,098</td>\n",
       "      <td>119</td>\n",
       "    </tr>\n",
       "    <tr>\n",
       "      <th>3</th>\n",
       "      <td>27</td>\n",
       "      <td>2,820</td>\n",
       "      <td>104</td>\n",
       "    </tr>\n",
       "    <tr>\n",
       "      <th>4</th>\n",
       "      <td>25</td>\n",
       "      <td>2,553</td>\n",
       "      <td>102</td>\n",
       "    </tr>\n",
       "    <tr>\n",
       "      <th>5</th>\n",
       "      <td>27</td>\n",
       "      <td>2,535</td>\n",
       "      <td>94</td>\n",
       "    </tr>\n",
       "    <tr>\n",
       "      <th>6</th>\n",
       "      <td>13</td>\n",
       "      <td>983</td>\n",
       "      <td>76</td>\n",
       "    </tr>\n",
       "    <tr>\n",
       "      <th>7</th>\n",
       "      <td>8</td>\n",
       "      <td>572</td>\n",
       "      <td>72</td>\n",
       "    </tr>\n",
       "    <tr>\n",
       "      <th>8</th>\n",
       "      <td>27</td>\n",
       "      <td>1,678</td>\n",
       "      <td>62</td>\n",
       "    </tr>\n",
       "    <tr>\n",
       "      <th>9</th>\n",
       "      <td>8</td>\n",
       "      <td>353</td>\n",
       "      <td>44</td>\n",
       "    </tr>\n",
       "  </tbody>\n",
       "</table>\n",
       "</div>"
      ],
      "text/plain": [
       "  women_matches women_points women_ratings\n",
       "0            21        3,603           172\n",
       "1            28        3,342           119\n",
       "2            26        3,098           119\n",
       "3            27        2,820           104\n",
       "4            25        2,553           102\n",
       "5            27        2,535            94\n",
       "6            13          983            76\n",
       "7             8          572            72\n",
       "8            27        1,678            62\n",
       "9             8          353            44"
      ]
     },
     "execution_count": 133,
     "metadata": {},
     "output_type": "execute_result"
    }
   ],
   "source": [
    "df=pd.DataFrame({'women_matches':women_matches,'women_points':women_points,'women_ratings':women_ratings})\n",
    "df"
   ]
  },
  {
   "cell_type": "code",
   "execution_count": null,
   "id": "0746c62a",
   "metadata": {},
   "outputs": [],
   "source": [
    "  b) Top 10 women’s ODI Batting players along with the records of their team and rating.\n"
   ]
  },
  {
   "cell_type": "code",
   "execution_count": 134,
   "id": "6479fc7b",
   "metadata": {},
   "outputs": [
    {
     "data": {
      "text/plain": [
       "<Response [200]>"
      ]
     },
     "execution_count": 134,
     "metadata": {},
     "output_type": "execute_result"
    }
   ],
   "source": [
    "#send get request to the webpage server to get the source code of the page\n",
    "page9 = requests.get(\"https://www.icc-cricket.com/rankings/womens/player-rankings/odi/batting\")\n",
    "page9"
   ]
  },
  {
   "cell_type": "code",
   "execution_count": 135,
   "id": "386f4223",
   "metadata": {},
   "outputs": [],
   "source": [
    "# see content in page\n",
    "soup = BeautifulSoup(page9.content)\n",
    "soup =  BeautifulSoup(page9.text,'html.parser')"
   ]
  },
  {
   "cell_type": "code",
   "execution_count": 137,
   "id": "6de3814d",
   "metadata": {},
   "outputs": [],
   "source": [
    "women_players_name = [] #empty list\n",
    "women_team_name = [] #empty list\n",
    "women_rating = [] #empty list"
   ]
  },
  {
   "cell_type": "code",
   "execution_count": 138,
   "id": "4d8e4532",
   "metadata": {},
   "outputs": [
    {
     "data": {
      "text/plain": [
       "['Alyssa Healy',\n",
       " 'Beth Mooney',\n",
       " 'Laura Wolvaardt',\n",
       " 'Natalie Sciver',\n",
       " 'Meg Lanning',\n",
       " 'Harmanpreet Kaur',\n",
       " 'Smriti Mandhana',\n",
       " 'Rachael Haynes',\n",
       " 'Chamari Athapaththu',\n",
       " 'Amy Satterthwaite']"
      ]
     },
     "execution_count": 138,
     "metadata": {},
     "output_type": "execute_result"
    }
   ],
   "source": [
    "#Scrape players\n",
    "player_1 = soup.find_all(\"div\",class_=\"rankings-block__banner--name-large\")  #first place player name\n",
    "\n",
    "women_players_name = [] #empty list\n",
    "for i in player_1:\n",
    "    women_players_name.append(i.text)\n",
    "\n",
    "other_players = soup.find_all(\"td\",class_=\"table-body__cell rankings-table__name name\")  # other players\n",
    "\n",
    "for i in other_players:\n",
    "    for j in i.find_all(\"a\"):\n",
    "        women_players_name.append(j.text)\n",
    "women_players_name = women_players_name[:10]\n",
    "women_players_name"
   ]
  },
  {
   "cell_type": "code",
   "execution_count": 139,
   "id": "74480bb9",
   "metadata": {},
   "outputs": [
    {
     "data": {
      "text/plain": [
       "['AUS', 'AUS', 'SA', 'ENG', 'AUS', 'IND', 'IND', 'AUS', 'SL', 'NZ']"
      ]
     },
     "execution_count": 139,
     "metadata": {},
     "output_type": "execute_result"
    }
   ],
   "source": [
    "# Scrape team name\n",
    "team_1 = soup.find_all(\"div\",class_=\"rankings-block__banner--nationality\")   #first place team name\n",
    "\n",
    "women_team_name = []  #empty list\n",
    "for i in team_1:\n",
    "    women_team_name.append(i.text.replace(\"\\n\",\"\"))\n",
    "\n",
    "other_teams = soup.find_all(\"span\",class_=\"table-body__logo-text\")  # other teams name\n",
    "\n",
    "for i in other_teams:\n",
    "    women_team_name.append(i.text)\n",
    "women_team_name = women_team_name[:10]\n",
    "women_team_name"
   ]
  },
  {
   "cell_type": "code",
   "execution_count": 140,
   "id": "f392850e",
   "metadata": {},
   "outputs": [
    {
     "data": {
      "text/plain": [
       "['762', '754', '732', '731', '717', '716', '714', '680', '655', '641']"
      ]
     },
     "execution_count": 140,
     "metadata": {},
     "output_type": "execute_result"
    }
   ],
   "source": [
    "# Scrape ratings\n",
    "rating_1 = soup.find_all(\"div\",class_=\"rankings-block__banner--rating\")    #first place player ratings\n",
    "\n",
    "women_rating = []  #empty list\n",
    "for i in rating_1:\n",
    "    women_rating.append(i.text)\n",
    "\n",
    "others_ratings = soup.find_all(\"td\",class_=\"table-body__cell rating\")      #other players ratings\n",
    "\n",
    "for i in others_ratings:\n",
    "    women_rating.append(i.text)\n",
    "women_rating = women_rating[:10]\n",
    "women_rating "
   ]
  },
  {
   "cell_type": "code",
   "execution_count": 141,
   "id": "1fca4703",
   "metadata": {},
   "outputs": [
    {
     "name": "stdout",
     "output_type": "stream",
     "text": [
      "10 10 10\n"
     ]
    }
   ],
   "source": [
    "print(len(women_players_name),len(women_team_name),len(women_rating))"
   ]
  },
  {
   "cell_type": "code",
   "execution_count": 142,
   "id": "1f909b02",
   "metadata": {},
   "outputs": [
    {
     "data": {
      "text/html": [
       "<div>\n",
       "<style scoped>\n",
       "    .dataframe tbody tr th:only-of-type {\n",
       "        vertical-align: middle;\n",
       "    }\n",
       "\n",
       "    .dataframe tbody tr th {\n",
       "        vertical-align: top;\n",
       "    }\n",
       "\n",
       "    .dataframe thead th {\n",
       "        text-align: right;\n",
       "    }\n",
       "</style>\n",
       "<table border=\"1\" class=\"dataframe\">\n",
       "  <thead>\n",
       "    <tr style=\"text-align: right;\">\n",
       "      <th></th>\n",
       "      <th>women_players_name</th>\n",
       "      <th>women_team_name</th>\n",
       "      <th>women_rating</th>\n",
       "    </tr>\n",
       "  </thead>\n",
       "  <tbody>\n",
       "    <tr>\n",
       "      <th>0</th>\n",
       "      <td>Alyssa Healy</td>\n",
       "      <td>AUS</td>\n",
       "      <td>762</td>\n",
       "    </tr>\n",
       "    <tr>\n",
       "      <th>1</th>\n",
       "      <td>Beth Mooney</td>\n",
       "      <td>AUS</td>\n",
       "      <td>754</td>\n",
       "    </tr>\n",
       "    <tr>\n",
       "      <th>2</th>\n",
       "      <td>Laura Wolvaardt</td>\n",
       "      <td>SA</td>\n",
       "      <td>732</td>\n",
       "    </tr>\n",
       "    <tr>\n",
       "      <th>3</th>\n",
       "      <td>Natalie Sciver</td>\n",
       "      <td>ENG</td>\n",
       "      <td>731</td>\n",
       "    </tr>\n",
       "    <tr>\n",
       "      <th>4</th>\n",
       "      <td>Meg Lanning</td>\n",
       "      <td>AUS</td>\n",
       "      <td>717</td>\n",
       "    </tr>\n",
       "    <tr>\n",
       "      <th>5</th>\n",
       "      <td>Harmanpreet Kaur</td>\n",
       "      <td>IND</td>\n",
       "      <td>716</td>\n",
       "    </tr>\n",
       "    <tr>\n",
       "      <th>6</th>\n",
       "      <td>Smriti Mandhana</td>\n",
       "      <td>IND</td>\n",
       "      <td>714</td>\n",
       "    </tr>\n",
       "    <tr>\n",
       "      <th>7</th>\n",
       "      <td>Rachael Haynes</td>\n",
       "      <td>AUS</td>\n",
       "      <td>680</td>\n",
       "    </tr>\n",
       "    <tr>\n",
       "      <th>8</th>\n",
       "      <td>Chamari Athapaththu</td>\n",
       "      <td>SL</td>\n",
       "      <td>655</td>\n",
       "    </tr>\n",
       "    <tr>\n",
       "      <th>9</th>\n",
       "      <td>Amy Satterthwaite</td>\n",
       "      <td>NZ</td>\n",
       "      <td>641</td>\n",
       "    </tr>\n",
       "  </tbody>\n",
       "</table>\n",
       "</div>"
      ],
      "text/plain": [
       "    women_players_name women_team_name women_rating\n",
       "0         Alyssa Healy             AUS          762\n",
       "1          Beth Mooney             AUS          754\n",
       "2      Laura Wolvaardt              SA          732\n",
       "3       Natalie Sciver             ENG          731\n",
       "4          Meg Lanning             AUS          717\n",
       "5     Harmanpreet Kaur             IND          716\n",
       "6      Smriti Mandhana             IND          714\n",
       "7       Rachael Haynes             AUS          680\n",
       "8  Chamari Athapaththu              SL          655\n",
       "9    Amy Satterthwaite              NZ          641"
      ]
     },
     "execution_count": 142,
     "metadata": {},
     "output_type": "execute_result"
    }
   ],
   "source": [
    "df=pd.DataFrame({'women_players_name':women_players_name,'women_team_name':women_team_name,'women_rating':women_rating})\n",
    "df"
   ]
  },
  {
   "cell_type": "markdown",
   "id": "26cffc15",
   "metadata": {},
   "source": [
    "#    c) Top 10 women’s ODI all-rounder along with the records of their team and rating. "
   ]
  },
  {
   "cell_type": "code",
   "execution_count": 143,
   "id": "5e6c31fd",
   "metadata": {},
   "outputs": [
    {
     "data": {
      "text/plain": [
       "<Response [200]>"
      ]
     },
     "execution_count": 143,
     "metadata": {},
     "output_type": "execute_result"
    }
   ],
   "source": [
    "#send get request to the webpage server to get the source code of the page\n",
    "page10 = requests.get(\"https://www.icc-cricket.com/rankings/womens/player-rankings/odi/all-rounder\")\n",
    "page10"
   ]
  },
  {
   "cell_type": "code",
   "execution_count": 144,
   "id": "2d871e94",
   "metadata": {},
   "outputs": [],
   "source": [
    "# see content in page\n",
    "soup = BeautifulSoup(page10.content)\n",
    "soup =  BeautifulSoup(page10.text,'html.parser')"
   ]
  },
  {
   "cell_type": "code",
   "execution_count": 145,
   "id": "19a57f35",
   "metadata": {},
   "outputs": [],
   "source": [
    "women_all_rounders = [] #empty list\n",
    "women_team_name = [] #empty list  \n",
    "women_rating = [] #empty list "
   ]
  },
  {
   "cell_type": "code",
   "execution_count": 146,
   "id": "e3bfc1e7",
   "metadata": {},
   "outputs": [
    {
     "data": {
      "text/plain": [
       "['Hayley Matthews',\n",
       " 'Natalie Sciver',\n",
       " 'Ellyse Perry',\n",
       " 'Marizanne Kapp',\n",
       " 'Amelia Kerr',\n",
       " 'Deepti Sharma',\n",
       " 'Ashleigh Gardner',\n",
       " 'Jess Jonassen',\n",
       " 'Nida Dar',\n",
       " 'Jhulan Goswami']"
      ]
     },
     "execution_count": 146,
     "metadata": {},
     "output_type": "execute_result"
    }
   ],
   "source": [
    "#Scrape top 10 all-rounders name\n",
    "all_rounder_1 = soup.find_all(\"div\",class_=\"rankings-block__banner--name-large\")   #first place all-rounder name\n",
    "\n",
    "women_all_rounders = []   #empty list\n",
    "for i in all_rounder_1:\n",
    "    women_all_rounders.append(i.text)\n",
    "\n",
    "other_all_rounders = soup.find_all(\"td\",class_=\"table-body__cell rankings-table__name name\")   #other all-rounders name\n",
    "\n",
    "for i in other_all_rounders:\n",
    "    for j in i.find_all(\"a\"):\n",
    "        women_all_rounders.append(j.text)\n",
    "women_all_rounders = women_all_rounders[:10]\n",
    "women_all_rounders"
   ]
  },
  {
   "cell_type": "code",
   "execution_count": 147,
   "id": "9a759c58",
   "metadata": {},
   "outputs": [
    {
     "data": {
      "text/plain": [
       "['WI', 'ENG', 'AUS', 'SA', 'NZ', 'IND', 'AUS', 'AUS', 'PAK', 'IND']"
      ]
     },
     "execution_count": 147,
     "metadata": {},
     "output_type": "execute_result"
    }
   ],
   "source": [
    "#Scrape team name\n",
    "team_1 = soup.find_all(\"div\",class_=\"rankings-block__banner--nationality\")  # first place all-rounder team name\n",
    "\n",
    "women_team_name = []   #empty list\n",
    "for i in team_1:\n",
    "    women_team_name.append(i.text.replace(\"\\n\",\"\"))\n",
    "\n",
    "other_teams = soup.find_all(\"span\",class_=\"table-body__logo-text\")   # other all-rounders team name\n",
    "\n",
    "for i in other_teams:\n",
    "    women_team_name.append(i.text)\n",
    "women_team_name = women_team_name[:10]\n",
    "women_team_name"
   ]
  },
  {
   "cell_type": "code",
   "execution_count": 148,
   "id": "be1f644b",
   "metadata": {},
   "outputs": [
    {
     "data": {
      "text/plain": [
       "['373', '371', '366', '349', '336', '322', '292', '250', '232', '214']"
      ]
     },
     "execution_count": 148,
     "metadata": {},
     "output_type": "execute_result"
    }
   ],
   "source": [
    "# Scrape ratings\n",
    "rating_1 = soup.find_all(\"div\",class_=\"rankings-block__banner--rating\")   # first place bowler ratings\n",
    "\n",
    "women_ratings = []   #empty list\n",
    "for i in rating_1:\n",
    "    women_ratings.append(i.text)\n",
    "\n",
    "others_ratings = soup.find_all(\"td\",class_=\"table-body__cell rating\")   # other bowlers ratings\n",
    "\n",
    "for i in others_ratings:\n",
    "    women_ratings.append(i.text)\n",
    "women_ratings = women_ratings[:10]\n",
    "women_ratings"
   ]
  },
  {
   "cell_type": "code",
   "execution_count": 149,
   "id": "86a2f0e0",
   "metadata": {},
   "outputs": [
    {
     "name": "stdout",
     "output_type": "stream",
     "text": [
      "10 10 10\n"
     ]
    }
   ],
   "source": [
    "print(len(women_all_rounders),len(women_team_name),len(women_ratings))"
   ]
  },
  {
   "cell_type": "code",
   "execution_count": 150,
   "id": "4f7bed94",
   "metadata": {},
   "outputs": [
    {
     "data": {
      "text/html": [
       "<div>\n",
       "<style scoped>\n",
       "    .dataframe tbody tr th:only-of-type {\n",
       "        vertical-align: middle;\n",
       "    }\n",
       "\n",
       "    .dataframe tbody tr th {\n",
       "        vertical-align: top;\n",
       "    }\n",
       "\n",
       "    .dataframe thead th {\n",
       "        text-align: right;\n",
       "    }\n",
       "</style>\n",
       "<table border=\"1\" class=\"dataframe\">\n",
       "  <thead>\n",
       "    <tr style=\"text-align: right;\">\n",
       "      <th></th>\n",
       "      <th>women_all_rounders</th>\n",
       "      <th>women_team_name</th>\n",
       "      <th>women_ratings</th>\n",
       "    </tr>\n",
       "  </thead>\n",
       "  <tbody>\n",
       "    <tr>\n",
       "      <th>0</th>\n",
       "      <td>Hayley Matthews</td>\n",
       "      <td>WI</td>\n",
       "      <td>373</td>\n",
       "    </tr>\n",
       "    <tr>\n",
       "      <th>1</th>\n",
       "      <td>Natalie Sciver</td>\n",
       "      <td>ENG</td>\n",
       "      <td>371</td>\n",
       "    </tr>\n",
       "    <tr>\n",
       "      <th>2</th>\n",
       "      <td>Ellyse Perry</td>\n",
       "      <td>AUS</td>\n",
       "      <td>366</td>\n",
       "    </tr>\n",
       "    <tr>\n",
       "      <th>3</th>\n",
       "      <td>Marizanne Kapp</td>\n",
       "      <td>SA</td>\n",
       "      <td>349</td>\n",
       "    </tr>\n",
       "    <tr>\n",
       "      <th>4</th>\n",
       "      <td>Amelia Kerr</td>\n",
       "      <td>NZ</td>\n",
       "      <td>336</td>\n",
       "    </tr>\n",
       "    <tr>\n",
       "      <th>5</th>\n",
       "      <td>Deepti Sharma</td>\n",
       "      <td>IND</td>\n",
       "      <td>322</td>\n",
       "    </tr>\n",
       "    <tr>\n",
       "      <th>6</th>\n",
       "      <td>Ashleigh Gardner</td>\n",
       "      <td>AUS</td>\n",
       "      <td>292</td>\n",
       "    </tr>\n",
       "    <tr>\n",
       "      <th>7</th>\n",
       "      <td>Jess Jonassen</td>\n",
       "      <td>AUS</td>\n",
       "      <td>250</td>\n",
       "    </tr>\n",
       "    <tr>\n",
       "      <th>8</th>\n",
       "      <td>Nida Dar</td>\n",
       "      <td>PAK</td>\n",
       "      <td>232</td>\n",
       "    </tr>\n",
       "    <tr>\n",
       "      <th>9</th>\n",
       "      <td>Jhulan Goswami</td>\n",
       "      <td>IND</td>\n",
       "      <td>214</td>\n",
       "    </tr>\n",
       "  </tbody>\n",
       "</table>\n",
       "</div>"
      ],
      "text/plain": [
       "  women_all_rounders women_team_name women_ratings\n",
       "0    Hayley Matthews              WI           373\n",
       "1     Natalie Sciver             ENG           371\n",
       "2       Ellyse Perry             AUS           366\n",
       "3     Marizanne Kapp              SA           349\n",
       "4        Amelia Kerr              NZ           336\n",
       "5      Deepti Sharma             IND           322\n",
       "6   Ashleigh Gardner             AUS           292\n",
       "7      Jess Jonassen             AUS           250\n",
       "8           Nida Dar             PAK           232\n",
       "9     Jhulan Goswami             IND           214"
      ]
     },
     "execution_count": 150,
     "metadata": {},
     "output_type": "execute_result"
    }
   ],
   "source": [
    "df=pd.DataFrame({'women_all_rounders':women_all_rounders,'women_team_name':women_team_name,'women_ratings':women_ratings})\n",
    "df"
   ]
  },
  {
   "cell_type": "code",
   "execution_count": null,
   "id": "ad88d4df",
   "metadata": {},
   "outputs": [],
   "source": [
    "8) Write a python program to scrape house details from mentioned URL.\n",
    "It should include house title, location, area, EMI and price from https://www.nobroker.in/ .\n",
    "    Enter three localities which are Indira Nagar,Jayanagar, Rajaji Nagar."
   ]
  },
  {
   "cell_type": "code",
   "execution_count": null,
   "id": "c2858374",
   "metadata": {},
   "outputs": [],
   "source": [
    "SOLVED IN NEW NOTEBOOK"
   ]
  },
  {
   "cell_type": "code",
   "execution_count": null,
   "id": "5c6a2fe0",
   "metadata": {},
   "outputs": [],
   "source": [
    " 9) Write a python program to scrape mentioned details from dineout.co.in : \n",
    "i) Restaurant name ii) Cuisine iii) Location iv) Ratings v) Image URL "
   ]
  },
  {
   "cell_type": "code",
   "execution_count": 77,
   "id": "b23ac000",
   "metadata": {},
   "outputs": [],
   "source": [
    "page9=requests.get(\"https://www.dineout.co.in/delhi-restaurants/buffet-special\")"
   ]
  },
  {
   "cell_type": "code",
   "execution_count": 78,
   "id": "a1ef0155",
   "metadata": {},
   "outputs": [
    {
     "data": {
      "text/plain": [
       "<Response [200]>"
      ]
     },
     "execution_count": 78,
     "metadata": {},
     "output_type": "execute_result"
    }
   ],
   "source": [
    "page9"
   ]
  },
  {
   "cell_type": "code",
   "execution_count": 79,
   "id": "143c4a59",
   "metadata": {},
   "outputs": [],
   "source": [
    "soup=BeautifulSoup(page9.content)"
   ]
  },
  {
   "cell_type": "code",
   "execution_count": 80,
   "id": "cf3c69f2",
   "metadata": {},
   "outputs": [
    {
     "data": {
      "text/plain": [
       "<a analytics-action=\"RestaurantCardClick\" analytics-label=\"86792_Castle Barbeque\" class=\"restnt-name ellipsis\" data-w-onclick=\"sendAnalyticsCommon|w1-restarant\" href=\"/delhi/castle-barbeque-connaught-place-central-delhi-86792\">Castle Barbeque</a>"
      ]
     },
     "execution_count": 80,
     "metadata": {},
     "output_type": "execute_result"
    }
   ],
   "source": [
    "# scraping the first name\n",
    "first_title=soup.find('a', class_=\"restnt-name ellipsis\")\n",
    "first_title"
   ]
  },
  {
   "cell_type": "code",
   "execution_count": 81,
   "id": "d53d6086",
   "metadata": {},
   "outputs": [
    {
     "data": {
      "text/plain": [
       "'Castle Barbeque'"
      ]
     },
     "execution_count": 81,
     "metadata": {},
     "output_type": "execute_result"
    }
   ],
   "source": [
    "first_title.text"
   ]
  },
  {
   "cell_type": "code",
   "execution_count": 82,
   "id": "3f3fa2b5",
   "metadata": {},
   "outputs": [
    {
     "data": {
      "text/plain": [
       "'Connaught Place, Central Delhi'"
      ]
     },
     "execution_count": 82,
     "metadata": {},
     "output_type": "execute_result"
    }
   ],
   "source": [
    "location_title=soup.find('div',class_=\"restnt-loc ellipsis\")\n",
    "location_title.text"
   ]
  },
  {
   "cell_type": "code",
   "execution_count": 83,
   "id": "c784c189",
   "metadata": {},
   "outputs": [
    {
     "name": "stdout",
     "output_type": "stream",
     "text": [
      "₹ 2,000 for 2 (approx) | Chinese, North Indian\n"
     ]
    },
    {
     "data": {
      "text/plain": [
       "'₹ 2,000 for 2 (approx) '"
      ]
     },
     "execution_count": 83,
     "metadata": {},
     "output_type": "execute_result"
    }
   ],
   "source": [
    "# scraping first price\n",
    "price_tag=soup.find('span', class_=\"double-line-ellipsis\")\n",
    "print(price_tag.text)\n",
    "price_tag.text.split(\"|\")[0] # This code is used to srap the first part of it."
   ]
  },
  {
   "cell_type": "code",
   "execution_count": 84,
   "id": "ccefb126",
   "metadata": {},
   "outputs": [],
   "source": [
    "title2=[]\n",
    "location3=[]\n",
    "price2=[]"
   ]
  },
  {
   "cell_type": "code",
   "execution_count": 85,
   "id": "97a46e81",
   "metadata": {},
   "outputs": [
    {
     "data": {
      "text/plain": [
       "['Castle Barbeque',\n",
       " 'Jungle Jamboree',\n",
       " 'Cafe Knosh',\n",
       " 'Castle Barbeque',\n",
       " 'The Barbeque Company',\n",
       " 'India Grill',\n",
       " 'Delhi Barbeque',\n",
       " 'The Monarch - Bar Be Que Village',\n",
       " 'Indian Grill Room']"
      ]
     },
     "execution_count": 85,
     "metadata": {},
     "output_type": "execute_result"
    }
   ],
   "source": [
    "#scping the multiple title\n",
    "for i in soup.find_all('a', class_=\"restnt-name ellipsis\"):\n",
    "    title2.append(i.text)\n",
    "title2"
   ]
  },
  {
   "cell_type": "code",
   "execution_count": 86,
   "id": "7f2cd5d2",
   "metadata": {},
   "outputs": [
    {
     "name": "stdout",
     "output_type": "stream",
     "text": [
      "9\n"
     ]
    }
   ],
   "source": [
    "print(len(title2)) "
   ]
  },
  {
   "cell_type": "code",
   "execution_count": 87,
   "id": "dbb53fc3",
   "metadata": {},
   "outputs": [
    {
     "data": {
      "text/plain": [
       "['Connaught Place, Central Delhi',\n",
       " '3CS Mall,Lajpat Nagar - 3, South Delhi',\n",
       " 'The Leela Ambience Convention Hotel,Shahdara, East Delhi',\n",
       " 'Pacific Mall,Tagore Garden, West Delhi',\n",
       " 'Gardens Galleria,Sector 38A, Noida',\n",
       " 'Hilton Garden Inn,Saket, South Delhi',\n",
       " 'Taurus Sarovar Portico,Mahipalpur, South Delhi',\n",
       " 'Indirapuram Habitat Centre,Indirapuram, Ghaziabad',\n",
       " 'Suncity Business Tower,Golf Course Road, Gurgaon']"
      ]
     },
     "execution_count": 87,
     "metadata": {},
     "output_type": "execute_result"
    }
   ],
   "source": [
    "#scping the multiple location\n",
    "for i in soup.find_all('div',class_=\"restnt-loc ellipsis\"):\n",
    "    location3.append(i.text)\n",
    "location3\n"
   ]
  },
  {
   "cell_type": "code",
   "execution_count": 88,
   "id": "02861050",
   "metadata": {},
   "outputs": [
    {
     "name": "stdout",
     "output_type": "stream",
     "text": [
      "9\n"
     ]
    }
   ],
   "source": [
    "print(len(location3))"
   ]
  },
  {
   "cell_type": "code",
   "execution_count": 89,
   "id": "86dd647d",
   "metadata": {},
   "outputs": [
    {
     "data": {
      "text/plain": [
       "['₹ 2,000 for 2 (approx) ',\n",
       " '₹ 1,680 for 2 (approx) ',\n",
       " '₹ 3,000 for 2 (approx) ',\n",
       " '₹ 2,000 for 2 (approx) ',\n",
       " '₹ 1,700 for 2 (approx) ',\n",
       " '₹ 2,400 for 2 (approx) ',\n",
       " '₹ 1,800 for 2 (approx) ',\n",
       " '₹ 1,900 for 2 (approx) ',\n",
       " '₹ 2,200 for 2 (approx) ']"
      ]
     },
     "execution_count": 89,
     "metadata": {},
     "output_type": "execute_result"
    }
   ],
   "source": [
    "# scaping the Multiple price\n",
    "for i in soup.find_all('span', class_=\"double-line-ellipsis\"):\n",
    "    price2.append(i.text.split(\"|\")[0] )\n",
    "price2\n"
   ]
  },
  {
   "cell_type": "code",
   "execution_count": 90,
   "id": "9572e398",
   "metadata": {},
   "outputs": [
    {
     "name": "stdout",
     "output_type": "stream",
     "text": [
      "9\n"
     ]
    }
   ],
   "source": [
    "print(len(price2))"
   ]
  },
  {
   "cell_type": "code",
   "execution_count": 91,
   "id": "75b44088",
   "metadata": {},
   "outputs": [
    {
     "data": {
      "text/plain": [
       "['https://im1.dineout.co.in/images/uploads/restaurant/sharpen/8/k/b/p86792-16062953735fbe1f4d3fb7e.jpg?tr=tr:n-medium',\n",
       " 'https://im1.dineout.co.in/images/uploads/restaurant/sharpen/5/p/m/p59633-166088382462ff137009010.jpg?tr=tr:n-medium',\n",
       " 'https://im1.dineout.co.in/images/uploads/restaurant/sharpen/4/p/m/p406-15438184745c04ccea491bc.jpg?tr=tr:n-medium',\n",
       " 'https://im1.dineout.co.in/images/uploads/restaurant/sharpen/3/j/o/p38113-15959192065f1fcb666130c.jpg?tr=tr:n-medium',\n",
       " 'https://im1.dineout.co.in/images/uploads/restaurant/sharpen/7/p/k/p79307-16051787755fad1597f2bf9.jpg?tr=tr:n-medium',\n",
       " 'https://im1.dineout.co.in/images/uploads/restaurant/sharpen/2/v/t/p2687-1482477169585cce712b90f.jpg?tr=tr:n-medium',\n",
       " 'https://im1.dineout.co.in/images/uploads/restaurant/sharpen/5/d/i/p52501-1661855212630de5eceb6d2.jpg?tr=tr:n-medium',\n",
       " 'https://im1.dineout.co.in/images/uploads/restaurant/sharpen/3/n/o/p34822-15599107305cfa594a13c24.jpg?tr=tr:n-medium',\n",
       " 'https://im1.dineout.co.in/images/uploads/restaurant/sharpen/5/y/f/p549-165000147262590640c0afc.jpg?tr=tr:n-medium']"
      ]
     },
     "execution_count": 91,
     "metadata": {},
     "output_type": "execute_result"
    }
   ],
   "source": [
    "# scaping the images from the page\n",
    "images=[]\n",
    "for i in soup.find_all('img', class_=\"no-img\"):\n",
    "    images.append(i.get('data-src'))\n",
    "images"
   ]
  },
  {
   "cell_type": "code",
   "execution_count": 92,
   "id": "2b8b7fd6",
   "metadata": {},
   "outputs": [
    {
     "data": {
      "text/html": [
       "<div>\n",
       "<style scoped>\n",
       "    .dataframe tbody tr th:only-of-type {\n",
       "        vertical-align: middle;\n",
       "    }\n",
       "\n",
       "    .dataframe tbody tr th {\n",
       "        vertical-align: top;\n",
       "    }\n",
       "\n",
       "    .dataframe thead th {\n",
       "        text-align: right;\n",
       "    }\n",
       "</style>\n",
       "<table border=\"1\" class=\"dataframe\">\n",
       "  <thead>\n",
       "    <tr style=\"text-align: right;\">\n",
       "      <th></th>\n",
       "      <th>Title</th>\n",
       "      <th>Location</th>\n",
       "      <th>Price</th>\n",
       "      <th>Image Link</th>\n",
       "    </tr>\n",
       "  </thead>\n",
       "  <tbody>\n",
       "    <tr>\n",
       "      <th>0</th>\n",
       "      <td>Castle Barbeque</td>\n",
       "      <td>Connaught Place, Central Delhi</td>\n",
       "      <td>₹ 2,000 for 2 (approx)</td>\n",
       "      <td>https://im1.dineout.co.in/images/uploads/resta...</td>\n",
       "    </tr>\n",
       "    <tr>\n",
       "      <th>1</th>\n",
       "      <td>Jungle Jamboree</td>\n",
       "      <td>3CS Mall,Lajpat Nagar - 3, South Delhi</td>\n",
       "      <td>₹ 1,680 for 2 (approx)</td>\n",
       "      <td>https://im1.dineout.co.in/images/uploads/resta...</td>\n",
       "    </tr>\n",
       "    <tr>\n",
       "      <th>2</th>\n",
       "      <td>Cafe Knosh</td>\n",
       "      <td>The Leela Ambience Convention Hotel,Shahdara, ...</td>\n",
       "      <td>₹ 3,000 for 2 (approx)</td>\n",
       "      <td>https://im1.dineout.co.in/images/uploads/resta...</td>\n",
       "    </tr>\n",
       "    <tr>\n",
       "      <th>3</th>\n",
       "      <td>Castle Barbeque</td>\n",
       "      <td>Pacific Mall,Tagore Garden, West Delhi</td>\n",
       "      <td>₹ 2,000 for 2 (approx)</td>\n",
       "      <td>https://im1.dineout.co.in/images/uploads/resta...</td>\n",
       "    </tr>\n",
       "    <tr>\n",
       "      <th>4</th>\n",
       "      <td>The Barbeque Company</td>\n",
       "      <td>Gardens Galleria,Sector 38A, Noida</td>\n",
       "      <td>₹ 1,700 for 2 (approx)</td>\n",
       "      <td>https://im1.dineout.co.in/images/uploads/resta...</td>\n",
       "    </tr>\n",
       "    <tr>\n",
       "      <th>5</th>\n",
       "      <td>India Grill</td>\n",
       "      <td>Hilton Garden Inn,Saket, South Delhi</td>\n",
       "      <td>₹ 2,400 for 2 (approx)</td>\n",
       "      <td>https://im1.dineout.co.in/images/uploads/resta...</td>\n",
       "    </tr>\n",
       "    <tr>\n",
       "      <th>6</th>\n",
       "      <td>Delhi Barbeque</td>\n",
       "      <td>Taurus Sarovar Portico,Mahipalpur, South Delhi</td>\n",
       "      <td>₹ 1,800 for 2 (approx)</td>\n",
       "      <td>https://im1.dineout.co.in/images/uploads/resta...</td>\n",
       "    </tr>\n",
       "    <tr>\n",
       "      <th>7</th>\n",
       "      <td>The Monarch - Bar Be Que Village</td>\n",
       "      <td>Indirapuram Habitat Centre,Indirapuram, Ghaziabad</td>\n",
       "      <td>₹ 1,900 for 2 (approx)</td>\n",
       "      <td>https://im1.dineout.co.in/images/uploads/resta...</td>\n",
       "    </tr>\n",
       "    <tr>\n",
       "      <th>8</th>\n",
       "      <td>Indian Grill Room</td>\n",
       "      <td>Suncity Business Tower,Golf Course Road, Gurgaon</td>\n",
       "      <td>₹ 2,200 for 2 (approx)</td>\n",
       "      <td>https://im1.dineout.co.in/images/uploads/resta...</td>\n",
       "    </tr>\n",
       "  </tbody>\n",
       "</table>\n",
       "</div>"
      ],
      "text/plain": [
       "                              Title  \\\n",
       "0                   Castle Barbeque   \n",
       "1                   Jungle Jamboree   \n",
       "2                        Cafe Knosh   \n",
       "3                   Castle Barbeque   \n",
       "4              The Barbeque Company   \n",
       "5                       India Grill   \n",
       "6                    Delhi Barbeque   \n",
       "7  The Monarch - Bar Be Que Village   \n",
       "8                 Indian Grill Room   \n",
       "\n",
       "                                            Location                    Price  \\\n",
       "0                     Connaught Place, Central Delhi  ₹ 2,000 for 2 (approx)    \n",
       "1             3CS Mall,Lajpat Nagar - 3, South Delhi  ₹ 1,680 for 2 (approx)    \n",
       "2  The Leela Ambience Convention Hotel,Shahdara, ...  ₹ 3,000 for 2 (approx)    \n",
       "3             Pacific Mall,Tagore Garden, West Delhi  ₹ 2,000 for 2 (approx)    \n",
       "4                 Gardens Galleria,Sector 38A, Noida  ₹ 1,700 for 2 (approx)    \n",
       "5               Hilton Garden Inn,Saket, South Delhi  ₹ 2,400 for 2 (approx)    \n",
       "6     Taurus Sarovar Portico,Mahipalpur, South Delhi  ₹ 1,800 for 2 (approx)    \n",
       "7  Indirapuram Habitat Centre,Indirapuram, Ghaziabad  ₹ 1,900 for 2 (approx)    \n",
       "8   Suncity Business Tower,Golf Course Road, Gurgaon  ₹ 2,200 for 2 (approx)    \n",
       "\n",
       "                                          Image Link  \n",
       "0  https://im1.dineout.co.in/images/uploads/resta...  \n",
       "1  https://im1.dineout.co.in/images/uploads/resta...  \n",
       "2  https://im1.dineout.co.in/images/uploads/resta...  \n",
       "3  https://im1.dineout.co.in/images/uploads/resta...  \n",
       "4  https://im1.dineout.co.in/images/uploads/resta...  \n",
       "5  https://im1.dineout.co.in/images/uploads/resta...  \n",
       "6  https://im1.dineout.co.in/images/uploads/resta...  \n",
       "7  https://im1.dineout.co.in/images/uploads/resta...  \n",
       "8  https://im1.dineout.co.in/images/uploads/resta...  "
      ]
     },
     "execution_count": 92,
     "metadata": {},
     "output_type": "execute_result"
    }
   ],
   "source": [
    "df=pd.DataFrame({'Title':title2,'Location':location3,'Price':price2, 'Image Link':images})\n",
    "df"
   ]
  },
  {
   "cell_type": "code",
   "execution_count": null,
   "id": "cec9339f",
   "metadata": {},
   "outputs": [],
   "source": [
    " 10) Write a python program to scrape first 10 product details which include product name , price , Image URL \n",
    "    from https://www.bewakoof.com/women-tshirts?ga_q=tshirts . "
   ]
  },
  {
   "cell_type": "code",
   "execution_count": null,
   "id": "c2718257",
   "metadata": {},
   "outputs": [],
   "source": [
    "SOLVED IN NEW NOTEBOOK"
   ]
  }
 ],
 "metadata": {
  "kernelspec": {
   "display_name": "Python 3 (ipykernel)",
   "language": "python",
   "name": "python3"
  },
  "language_info": {
   "codemirror_mode": {
    "name": "ipython",
    "version": 3
   },
   "file_extension": ".py",
   "mimetype": "text/x-python",
   "name": "python",
   "nbconvert_exporter": "python",
   "pygments_lexer": "ipython3",
   "version": "3.9.13"
  }
 },
 "nbformat": 4,
 "nbformat_minor": 5
}
